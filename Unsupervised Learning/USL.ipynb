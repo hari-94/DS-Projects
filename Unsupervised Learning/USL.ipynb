{
 "cells": [
  {
   "cell_type": "markdown",
   "metadata": {},
   "source": [
    "#### USL"
   ]
  },
  {
   "cell_type": "markdown",
   "metadata": {},
   "source": [
    "### About the dataset (CO<sub>2</sub> emission data)\n",
    "\n",
    "In the dataset, the CO<sub>2</sub> emission for various regions in the world is given. Our objective is to group the regions based on the factors affecting the environment in terms of the greenhouse gases, where CO<sub>2</sub> is a primary greenhouse gas. \n",
    "\n",
    "Many developing and developed countries in the world are contributing to the CO<sub>2</sub> emission in the environment. It is interesting to know that the increase in atmospheric carbon dioxide is responsible for about two-thirds of the total energy imbalance that is causing Earth's temperature to rise and leads to global warming.\n",
    "\n",
    "**Region**: Region of the country\n",
    "\n",
    "**CO2 Emission**: Annual CO<sub>2</sub> emission (in tonnes)\n",
    "\n",
    "**Ease of Business**: The ease of business in the country\n",
    "\n",
    "**Energy Usage**: Energy used by the country in various forms\n",
    "\n",
    "**GDP**: GDP of a country\n",
    "\n",
    "**Internet Usage**: Usage of the internet \n",
    "\n",
    "**Population total**: Total population of a country"
   ]
  },
  {
   "cell_type": "markdown",
   "metadata": {},
   "source": [
    "#### Import the required libraries"
   ]
  },
  {
   "cell_type": "code",
   "execution_count": 1,
   "metadata": {},
   "outputs": [],
   "source": [
    "import numpy as np\n",
    "import pandas as pd\n",
    "import seaborn as sns\n",
    "import matplotlib.pyplot as plt"
   ]
  },
  {
   "cell_type": "markdown",
   "metadata": {},
   "source": [
    "#### Read the data\n",
    "\n",
    "Load the csv file and print the first five observations."
   ]
  },
  {
   "cell_type": "code",
   "execution_count": 2,
   "metadata": {},
   "outputs": [
    {
     "data": {
      "text/html": [
       "<div>\n",
       "<style scoped>\n",
       "    .dataframe tbody tr th:only-of-type {\n",
       "        vertical-align: middle;\n",
       "    }\n",
       "\n",
       "    .dataframe tbody tr th {\n",
       "        vertical-align: top;\n",
       "    }\n",
       "\n",
       "    .dataframe thead th {\n",
       "        text-align: right;\n",
       "    }\n",
       "</style>\n",
       "<table border=\"1\" class=\"dataframe\">\n",
       "  <thead>\n",
       "    <tr style=\"text-align: right;\">\n",
       "      <th></th>\n",
       "      <th>Region</th>\n",
       "      <th>CO2 Emissions</th>\n",
       "      <th>Ease of Business</th>\n",
       "      <th>Energy Usage</th>\n",
       "      <th>GDP</th>\n",
       "      <th>Internet Usage</th>\n",
       "      <th>Population Total</th>\n",
       "    </tr>\n",
       "  </thead>\n",
       "  <tbody>\n",
       "    <tr>\n",
       "      <th>0</th>\n",
       "      <td>Europe</td>\n",
       "      <td>4294</td>\n",
       "      <td>151</td>\n",
       "      <td>1976</td>\n",
       "      <td>5.652325e+09</td>\n",
       "      <td>0.010</td>\n",
       "      <td>3033659</td>\n",
       "    </tr>\n",
       "    <tr>\n",
       "      <th>1</th>\n",
       "      <td>Europe</td>\n",
       "      <td>4166</td>\n",
       "      <td>151</td>\n",
       "      <td>2172</td>\n",
       "      <td>7.464447e+09</td>\n",
       "      <td>0.024</td>\n",
       "      <td>3014579</td>\n",
       "    </tr>\n",
       "    <tr>\n",
       "      <th>2</th>\n",
       "      <td>Europe</td>\n",
       "      <td>4254</td>\n",
       "      <td>151</td>\n",
       "      <td>2172</td>\n",
       "      <td>8.376484e+09</td>\n",
       "      <td>0.060</td>\n",
       "      <td>2992724</td>\n",
       "    </tr>\n",
       "    <tr>\n",
       "      <th>3</th>\n",
       "      <td>Europe</td>\n",
       "      <td>3865</td>\n",
       "      <td>151</td>\n",
       "      <td>2068</td>\n",
       "      <td>9.132562e+09</td>\n",
       "      <td>0.096</td>\n",
       "      <td>2968028</td>\n",
       "    </tr>\n",
       "    <tr>\n",
       "      <th>4</th>\n",
       "      <td>Europe</td>\n",
       "      <td>4056</td>\n",
       "      <td>151</td>\n",
       "      <td>2025</td>\n",
       "      <td>1.070101e+10</td>\n",
       "      <td>0.150</td>\n",
       "      <td>2940880</td>\n",
       "    </tr>\n",
       "  </tbody>\n",
       "</table>\n",
       "</div>"
      ],
      "text/plain": [
       "   Region  CO2 Emissions  Ease of Business  Energy Usage           GDP  \\\n",
       "0  Europe           4294               151          1976  5.652325e+09   \n",
       "1  Europe           4166               151          2172  7.464447e+09   \n",
       "2  Europe           4254               151          2172  8.376484e+09   \n",
       "3  Europe           3865               151          2068  9.132562e+09   \n",
       "4  Europe           4056               151          2025  1.070101e+10   \n",
       "\n",
       "   Internet Usage  Population Total  \n",
       "0           0.010           3033659  \n",
       "1           0.024           3014579  \n",
       "2           0.060           2992724  \n",
       "3           0.096           2968028  \n",
       "4           0.150           2940880  "
      ]
     },
     "execution_count": 2,
     "metadata": {},
     "output_type": "execute_result"
    }
   ],
   "source": [
    "df = pd.read_csv(\"CO2_emission_data.csv\")\n",
    "df.head()"
   ]
  },
  {
   "cell_type": "markdown",
   "metadata": {},
   "source": [
    "\n",
    "### Let's begin with some hands-on practice exercises"
   ]
  },
  {
   "cell_type": "markdown",
   "metadata": {},
   "source": [
    "\n",
    "## Exploratory Data Analysis"
   ]
  },
  {
   "cell_type": "markdown",
   "metadata": {},
   "source": [
    "#### Identifying the different regions to which the countries belong and visualize the count of countries."
   ]
  },
  {
   "cell_type": "code",
   "execution_count": 6,
   "metadata": {},
   "outputs": [
    {
     "data": {
      "text/plain": [
       "<AxesSubplot:>"
      ]
     },
     "execution_count": 6,
     "metadata": {},
     "output_type": "execute_result"
    },
    {
     "data": {
      "image/png": "[encoded data removed]",
      "text/plain": [
       "<Figure size 432x288 with 1 Axes>"
      ]
     },
     "metadata": {
      "needs_background": "light"
     },
     "output_type": "display_data"
    }
   ],
   "source": [
    "df['Region'].value_counts().plot(kind='bar')"
   ]
  },
  {
   "cell_type": "markdown",
   "metadata": {},
   "source": [
    "Checking the datatypes, dimension and summary statistics of the data."
   ]
  },
  {
   "cell_type": "code",
   "execution_count": 7,
   "metadata": {
    "scrolled": true
   },
   "outputs": [
    {
     "data": {
      "text/plain": [
       "Region               object\n",
       "CO2 Emissions         int64\n",
       "Ease of Business      int64\n",
       "Energy Usage          int64\n",
       "GDP                 float64\n",
       "Internet Usage      float64\n",
       "Population Total      int64\n",
       "dtype: object"
      ]
     },
     "execution_count": 7,
     "metadata": {},
     "output_type": "execute_result"
    }
   ],
   "source": [
    "df.dtypes"
   ]
  },
  {
   "cell_type": "code",
   "execution_count": 8,
   "metadata": {
    "scrolled": true
   },
   "outputs": [
    {
     "name": "stdout",
     "output_type": "stream",
     "text": [
      "<class 'pandas.core.frame.DataFrame'>\n",
      "RangeIndex: 1243 entries, 0 to 1242\n",
      "Data columns (total 7 columns):\n",
      " #   Column            Non-Null Count  Dtype  \n",
      "---  ------            --------------  -----  \n",
      " 0   Region            1243 non-null   object \n",
      " 1   CO2 Emissions     1243 non-null   int64  \n",
      " 2   Ease of Business  1243 non-null   int64  \n",
      " 3   Energy Usage      1243 non-null   int64  \n",
      " 4   GDP               1243 non-null   float64\n",
      " 5   Internet Usage    1236 non-null   float64\n",
      " 6   Population Total  1243 non-null   int64  \n",
      "dtypes: float64(2), int64(4), object(1)\n",
      "memory usage: 68.1+ KB\n"
     ]
    }
   ],
   "source": [
    "df.info()"
   ]
  },
  {
   "cell_type": "code",
   "execution_count": 10,
   "metadata": {},
   "outputs": [
    {
     "data": {
      "text/html": [
       "<div>\n",
       "<style scoped>\n",
       "    .dataframe tbody tr th:only-of-type {\n",
       "        vertical-align: middle;\n",
       "    }\n",
       "\n",
       "    .dataframe tbody tr th {\n",
       "        vertical-align: top;\n",
       "    }\n",
       "\n",
       "    .dataframe thead th {\n",
       "        text-align: right;\n",
       "    }\n",
       "</style>\n",
       "<table border=\"1\" class=\"dataframe\">\n",
       "  <thead>\n",
       "    <tr style=\"text-align: right;\">\n",
       "      <th></th>\n",
       "      <th>CO2 Emissions</th>\n",
       "      <th>Ease of Business</th>\n",
       "      <th>Energy Usage</th>\n",
       "      <th>GDP</th>\n",
       "      <th>Internet Usage</th>\n",
       "      <th>Population Total</th>\n",
       "    </tr>\n",
       "  </thead>\n",
       "  <tbody>\n",
       "    <tr>\n",
       "      <th>count</th>\n",
       "      <td>1.243000e+03</td>\n",
       "      <td>1243.000000</td>\n",
       "      <td>1.243000e+03</td>\n",
       "      <td>1.243000e+03</td>\n",
       "      <td>1236.000000</td>\n",
       "      <td>1.243000e+03</td>\n",
       "    </tr>\n",
       "    <tr>\n",
       "      <th>mean</th>\n",
       "      <td>1.897666e+05</td>\n",
       "      <td>88.279968</td>\n",
       "      <td>7.541842e+04</td>\n",
       "      <td>3.535548e+11</td>\n",
       "      <td>0.329983</td>\n",
       "      <td>4.513494e+07</td>\n",
       "    </tr>\n",
       "    <tr>\n",
       "      <th>std</th>\n",
       "      <td>7.697027e+05</td>\n",
       "      <td>52.770388</td>\n",
       "      <td>2.707586e+05</td>\n",
       "      <td>1.358970e+12</td>\n",
       "      <td>1.634042</td>\n",
       "      <td>1.600483e+08</td>\n",
       "    </tr>\n",
       "    <tr>\n",
       "      <th>min</th>\n",
       "      <td>4.800000e+01</td>\n",
       "      <td>1.000000</td>\n",
       "      <td>3.000000e+01</td>\n",
       "      <td>1.232585e+08</td>\n",
       "      <td>0.000000</td>\n",
       "      <td>6.966000e+04</td>\n",
       "    </tr>\n",
       "    <tr>\n",
       "      <th>25%</th>\n",
       "      <td>3.111500e+03</td>\n",
       "      <td>45.000000</td>\n",
       "      <td>2.721000e+03</td>\n",
       "      <td>7.746581e+09</td>\n",
       "      <td>0.062000</td>\n",
       "      <td>2.097088e+06</td>\n",
       "    </tr>\n",
       "    <tr>\n",
       "      <th>50%</th>\n",
       "      <td>1.620800e+04</td>\n",
       "      <td>85.000000</td>\n",
       "      <td>9.318000e+03</td>\n",
       "      <td>2.468037e+10</td>\n",
       "      <td>0.200500</td>\n",
       "      <td>7.739900e+06</td>\n",
       "    </tr>\n",
       "    <tr>\n",
       "      <th>75%</th>\n",
       "      <td>7.581200e+04</td>\n",
       "      <td>131.000000</td>\n",
       "      <td>3.495650e+04</td>\n",
       "      <td>1.770000e+11</td>\n",
       "      <td>0.460000</td>\n",
       "      <td>2.884664e+07</td>\n",
       "    </tr>\n",
       "    <tr>\n",
       "      <th>max</th>\n",
       "      <td>8.286892e+06</td>\n",
       "      <td>186.000000</td>\n",
       "      <td>2.727728e+06</td>\n",
       "      <td>1.620000e+13</td>\n",
       "      <td>57.000000</td>\n",
       "      <td>1.350695e+09</td>\n",
       "    </tr>\n",
       "  </tbody>\n",
       "</table>\n",
       "</div>"
      ],
      "text/plain": [
       "       CO2 Emissions  Ease of Business  Energy Usage           GDP  \\\n",
       "count   1.243000e+03       1243.000000  1.243000e+03  1.243000e+03   \n",
       "mean    1.897666e+05         88.279968  7.541842e+04  3.535548e+11   \n",
       "std     7.697027e+05         52.770388  2.707586e+05  1.358970e+12   \n",
       "min     4.800000e+01          1.000000  3.000000e+01  1.232585e+08   \n",
       "25%     3.111500e+03         45.000000  2.721000e+03  7.746581e+09   \n",
       "50%     1.620800e+04         85.000000  9.318000e+03  2.468037e+10   \n",
       "75%     7.581200e+04        131.000000  3.495650e+04  1.770000e+11   \n",
       "max     8.286892e+06        186.000000  2.727728e+06  1.620000e+13   \n",
       "\n",
       "       Internet Usage  Population Total  \n",
       "count     1236.000000      1.243000e+03  \n",
       "mean         0.329983      4.513494e+07  \n",
       "std          1.634042      1.600483e+08  \n",
       "min          0.000000      6.966000e+04  \n",
       "25%          0.062000      2.097088e+06  \n",
       "50%          0.200500      7.739900e+06  \n",
       "75%          0.460000      2.884664e+07  \n",
       "max         57.000000      1.350695e+09  "
      ]
     },
     "execution_count": 10,
     "metadata": {},
     "output_type": "execute_result"
    }
   ],
   "source": [
    "df.describe()"
   ]
  },
  {
   "cell_type": "markdown",
   "metadata": {},
   "source": [
    "Droping the variables 'Region', 'Ease of Business', 'Internet Usage'"
   ]
  },
  {
   "cell_type": "code",
   "execution_count": 15,
   "metadata": {},
   "outputs": [
    {
     "data": {
      "text/html": [
       "<div>\n",
       "<style scoped>\n",
       "    .dataframe tbody tr th:only-of-type {\n",
       "        vertical-align: middle;\n",
       "    }\n",
       "\n",
       "    .dataframe tbody tr th {\n",
       "        vertical-align: top;\n",
       "    }\n",
       "\n",
       "    .dataframe thead th {\n",
       "        text-align: right;\n",
       "    }\n",
       "</style>\n",
       "<table border=\"1\" class=\"dataframe\">\n",
       "  <thead>\n",
       "    <tr style=\"text-align: right;\">\n",
       "      <th></th>\n",
       "      <th>CO2 Emissions</th>\n",
       "      <th>Energy Usage</th>\n",
       "      <th>GDP</th>\n",
       "      <th>Population Total</th>\n",
       "    </tr>\n",
       "  </thead>\n",
       "  <tbody>\n",
       "    <tr>\n",
       "      <th>0</th>\n",
       "      <td>4294</td>\n",
       "      <td>1976</td>\n",
       "      <td>5.652325e+09</td>\n",
       "      <td>3033659</td>\n",
       "    </tr>\n",
       "    <tr>\n",
       "      <th>1</th>\n",
       "      <td>4166</td>\n",
       "      <td>2172</td>\n",
       "      <td>7.464447e+09</td>\n",
       "      <td>3014579</td>\n",
       "    </tr>\n",
       "    <tr>\n",
       "      <th>2</th>\n",
       "      <td>4254</td>\n",
       "      <td>2172</td>\n",
       "      <td>8.376484e+09</td>\n",
       "      <td>2992724</td>\n",
       "    </tr>\n",
       "    <tr>\n",
       "      <th>3</th>\n",
       "      <td>3865</td>\n",
       "      <td>2068</td>\n",
       "      <td>9.132562e+09</td>\n",
       "      <td>2968028</td>\n",
       "    </tr>\n",
       "    <tr>\n",
       "      <th>4</th>\n",
       "      <td>4056</td>\n",
       "      <td>2025</td>\n",
       "      <td>1.070101e+10</td>\n",
       "      <td>2940880</td>\n",
       "    </tr>\n",
       "    <tr>\n",
       "      <th>...</th>\n",
       "      <td>...</td>\n",
       "      <td>...</td>\n",
       "      <td>...</td>\n",
       "      <td>...</td>\n",
       "    </tr>\n",
       "    <tr>\n",
       "      <th>1238</th>\n",
       "      <td>2274</td>\n",
       "      <td>7213</td>\n",
       "      <td>7.178556e+09</td>\n",
       "      <td>11470022</td>\n",
       "    </tr>\n",
       "    <tr>\n",
       "      <th>1239</th>\n",
       "      <td>2226</td>\n",
       "      <td>7396</td>\n",
       "      <td>1.070220e+10</td>\n",
       "      <td>11781612</td>\n",
       "    </tr>\n",
       "    <tr>\n",
       "      <th>1240</th>\n",
       "      <td>1654</td>\n",
       "      <td>7399</td>\n",
       "      <td>1.154142e+10</td>\n",
       "      <td>12109620</td>\n",
       "    </tr>\n",
       "    <tr>\n",
       "      <th>1241</th>\n",
       "      <td>1845</td>\n",
       "      <td>7641</td>\n",
       "      <td>1.464079e+10</td>\n",
       "      <td>12456527</td>\n",
       "    </tr>\n",
       "    <tr>\n",
       "      <th>1242</th>\n",
       "      <td>2156</td>\n",
       "      <td>7842</td>\n",
       "      <td>1.280503e+10</td>\n",
       "      <td>12825031</td>\n",
       "    </tr>\n",
       "  </tbody>\n",
       "</table>\n",
       "<p>1243 rows × 4 columns</p>\n",
       "</div>"
      ],
      "text/plain": [
       "      CO2 Emissions  Energy Usage           GDP  Population Total\n",
       "0              4294          1976  5.652325e+09           3033659\n",
       "1              4166          2172  7.464447e+09           3014579\n",
       "2              4254          2172  8.376484e+09           2992724\n",
       "3              3865          2068  9.132562e+09           2968028\n",
       "4              4056          2025  1.070101e+10           2940880\n",
       "...             ...           ...           ...               ...\n",
       "1238           2274          7213  7.178556e+09          11470022\n",
       "1239           2226          7396  1.070220e+10          11781612\n",
       "1240           1654          7399  1.154142e+10          12109620\n",
       "1241           1845          7641  1.464079e+10          12456527\n",
       "1242           2156          7842  1.280503e+10          12825031\n",
       "\n",
       "[1243 rows x 4 columns]"
      ]
     },
     "execution_count": 15,
     "metadata": {},
     "output_type": "execute_result"
    }
   ],
   "source": [
    "new_df = df.drop(labels = ['Region','Ease of Business','Internet Usage'],axis = 1)\n",
    "new_df"
   ]
  },
  {
   "cell_type": "markdown",
   "metadata": {},
   "source": [
    "Checking for missing values"
   ]
  },
  {
   "cell_type": "code",
   "execution_count": 16,
   "metadata": {},
   "outputs": [
    {
     "data": {
      "text/plain": [
       "CO2 Emissions       0\n",
       "Energy Usage        0\n",
       "GDP                 0\n",
       "Population Total    0\n",
       "dtype: int64"
      ]
     },
     "execution_count": 16,
     "metadata": {},
     "output_type": "execute_result"
    }
   ],
   "source": [
    "new_df.isnull().sum()"
   ]
  },
  {
   "cell_type": "markdown",
   "metadata": {},
   "source": [
    "Outlier Detection"
   ]
  },
  {
   "cell_type": "code",
   "execution_count": 18,
   "metadata": {},
   "outputs": [
    {
     "data": {
      "text/plain": [
       "<AxesSubplot:>"
      ]
     },
     "execution_count": 18,
     "metadata": {},
     "output_type": "execute_result"
    },
    {
     "data": {
      "image/png": "[encoded data removed]",
      "text/plain": [
       "<Figure size 1080x360 with 1 Axes>"
      ]
     },
     "metadata": {
      "needs_background": "light"
     },
     "output_type": "display_data"
    }
   ],
   "source": [
    "plt.figure(figsize=(15,5))\n",
    "new_df.boxplot()\n"
   ]
  },
  {
   "cell_type": "markdown",
   "metadata": {},
   "source": [
    "Removing Outliers"
   ]
  },
  {
   "cell_type": "code",
   "execution_count": 72,
   "metadata": {},
   "outputs": [],
   "source": [
    "q1 = new_df.quantile(0.25)\n",
    "q3 = new_df.quantile(0.75)\n",
    "\n",
    "iqr = q3 - q1\n",
    "iqr\n",
    "\n",
    "co2_df = new_df[~((new_df < q1 - (3.5 * iqr)) | (new_df > q3 + (3.5 * iqr))).any(axis=1)]"
   ]
  },
  {
   "cell_type": "markdown",
   "metadata": {},
   "source": [
    "Visualizing the data obtained after removing the outliers with the help of a boxplot"
   ]
  },
  {
   "cell_type": "code",
   "execution_count": 73,
   "metadata": {
    "scrolled": false
   },
   "outputs": [
    {
     "name": "stderr",
     "output_type": "stream",
     "text": [
      "C:\\Users\\harip\\anaconda3\\lib\\site-packages\\seaborn\\_decorators.py:36: FutureWarning: Pass the following variable as a keyword arg: x. From version 0.12, the only valid positional argument will be `data`, and passing other arguments without an explicit keyword will result in an error or misinterpretation.\n",
      "  warnings.warn(\n"
     ]
    },
    {
     "data": {
      "image/png": "[encoded data removed]",
      "text/plain": [
       "<Figure size 432x288 with 1 Axes>"
      ]
     },
     "metadata": {
      "needs_background": "light"
     },
     "output_type": "display_data"
    },
    {
     "name": "stderr",
     "output_type": "stream",
     "text": [
      "C:\\Users\\harip\\anaconda3\\lib\\site-packages\\seaborn\\_decorators.py:36: FutureWarning: Pass the following variable as a keyword arg: x. From version 0.12, the only valid positional argument will be `data`, and passing other arguments without an explicit keyword will result in an error or misinterpretation.\n",
      "  warnings.warn(\n"
     ]
    },
    {
     "data": {
      "image/png": "[encoded data removed]",
      "text/plain": [
       "<Figure size 432x288 with 1 Axes>"
      ]
     },
     "metadata": {
      "needs_background": "light"
     },
     "output_type": "display_data"
    },
    {
     "name": "stderr",
     "output_type": "stream",
     "text": [
      "C:\\Users\\harip\\anaconda3\\lib\\site-packages\\seaborn\\_decorators.py:36: FutureWarning: Pass the following variable as a keyword arg: x. From version 0.12, the only valid positional argument will be `data`, and passing other arguments without an explicit keyword will result in an error or misinterpretation.\n",
      "  warnings.warn(\n"
     ]
    },
    {
     "data": {
      "image/png": "[encoded data removed]",
      "text/plain": [
       "<Figure size 432x288 with 1 Axes>"
      ]
     },
     "metadata": {
      "needs_background": "light"
     },
     "output_type": "display_data"
    },
    {
     "name": "stderr",
     "output_type": "stream",
     "text": [
      "C:\\Users\\harip\\anaconda3\\lib\\site-packages\\seaborn\\_decorators.py:36: FutureWarning: Pass the following variable as a keyword arg: x. From version 0.12, the only valid positional argument will be `data`, and passing other arguments without an explicit keyword will result in an error or misinterpretation.\n",
      "  warnings.warn(\n"
     ]
    },
    {
     "data": {
      "text/plain": [
       "<AxesSubplot:xlabel='Population Total'>"
      ]
     },
     "execution_count": 73,
     "metadata": {},
     "output_type": "execute_result"
    },
    {
     "data": {
      "image/png": "[encoded data removed]",
      "text/plain": [
       "<Figure size 432x288 with 1 Axes>"
      ]
     },
     "metadata": {
      "needs_background": "light"
     },
     "output_type": "display_data"
    }
   ],
   "source": [
    "sns.boxplot(co2_df['CO2 Emissions'])\n",
    "plt.show()\n",
    "sns.boxplot(co2_df['Energy Usage'])\n",
    "plt.show()\n",
    "sns.boxplot(co2_df['GDP'])\n",
    "plt.show()\n",
    "sns.boxplot(co2_df['Population Total'])"
   ]
  },
  {
   "cell_type": "markdown",
   "metadata": {},
   "source": [
    "Transforming the variables in the standard form such that they will have mean 0 and standard deviation 1 "
   ]
  },
  {
   "cell_type": "code",
   "execution_count": 74,
   "metadata": {},
   "outputs": [
    {
     "data": {
      "text/html": [
       "<div>\n",
       "<style scoped>\n",
       "    .dataframe tbody tr th:only-of-type {\n",
       "        vertical-align: middle;\n",
       "    }\n",
       "\n",
       "    .dataframe tbody tr th {\n",
       "        vertical-align: top;\n",
       "    }\n",
       "\n",
       "    .dataframe thead th {\n",
       "        text-align: right;\n",
       "    }\n",
       "</style>\n",
       "<table border=\"1\" class=\"dataframe\">\n",
       "  <thead>\n",
       "    <tr style=\"text-align: right;\">\n",
       "      <th></th>\n",
       "      <th>CO2 Emissions</th>\n",
       "      <th>Energy Usage</th>\n",
       "      <th>GDP</th>\n",
       "      <th>Population Total</th>\n",
       "    </tr>\n",
       "  </thead>\n",
       "  <tbody>\n",
       "    <tr>\n",
       "      <th>0</th>\n",
       "      <td>-0.523682</td>\n",
       "      <td>-0.615122</td>\n",
       "      <td>-0.546747</td>\n",
       "      <td>-0.522900</td>\n",
       "    </tr>\n",
       "    <tr>\n",
       "      <th>1</th>\n",
       "      <td>-0.525836</td>\n",
       "      <td>-0.606536</td>\n",
       "      <td>-0.531386</td>\n",
       "      <td>-0.523940</td>\n",
       "    </tr>\n",
       "    <tr>\n",
       "      <th>2</th>\n",
       "      <td>-0.524355</td>\n",
       "      <td>-0.606536</td>\n",
       "      <td>-0.523654</td>\n",
       "      <td>-0.525130</td>\n",
       "    </tr>\n",
       "    <tr>\n",
       "      <th>3</th>\n",
       "      <td>-0.530902</td>\n",
       "      <td>-0.611092</td>\n",
       "      <td>-0.517245</td>\n",
       "      <td>-0.526476</td>\n",
       "    </tr>\n",
       "    <tr>\n",
       "      <th>4</th>\n",
       "      <td>-0.527688</td>\n",
       "      <td>-0.612976</td>\n",
       "      <td>-0.503949</td>\n",
       "      <td>-0.527955</td>\n",
       "    </tr>\n",
       "    <tr>\n",
       "      <th>...</th>\n",
       "      <td>...</td>\n",
       "      <td>...</td>\n",
       "      <td>...</td>\n",
       "      <td>...</td>\n",
       "    </tr>\n",
       "    <tr>\n",
       "      <th>1049</th>\n",
       "      <td>-0.557679</td>\n",
       "      <td>-0.385690</td>\n",
       "      <td>-0.533809</td>\n",
       "      <td>-0.063318</td>\n",
       "    </tr>\n",
       "    <tr>\n",
       "      <th>1050</th>\n",
       "      <td>-0.558487</td>\n",
       "      <td>-0.377673</td>\n",
       "      <td>-0.503939</td>\n",
       "      <td>-0.046343</td>\n",
       "    </tr>\n",
       "    <tr>\n",
       "      <th>1051</th>\n",
       "      <td>-0.568114</td>\n",
       "      <td>-0.377542</td>\n",
       "      <td>-0.496825</td>\n",
       "      <td>-0.028475</td>\n",
       "    </tr>\n",
       "    <tr>\n",
       "      <th>1052</th>\n",
       "      <td>-0.564900</td>\n",
       "      <td>-0.366940</td>\n",
       "      <td>-0.470552</td>\n",
       "      <td>-0.009577</td>\n",
       "    </tr>\n",
       "    <tr>\n",
       "      <th>1053</th>\n",
       "      <td>-0.559665</td>\n",
       "      <td>-0.358134</td>\n",
       "      <td>-0.486113</td>\n",
       "      <td>0.010498</td>\n",
       "    </tr>\n",
       "  </tbody>\n",
       "</table>\n",
       "<p>1054 rows × 4 columns</p>\n",
       "</div>"
      ],
      "text/plain": [
       "      CO2 Emissions  Energy Usage       GDP  Population Total\n",
       "0         -0.523682     -0.615122 -0.546747         -0.522900\n",
       "1         -0.525836     -0.606536 -0.531386         -0.523940\n",
       "2         -0.524355     -0.606536 -0.523654         -0.525130\n",
       "3         -0.530902     -0.611092 -0.517245         -0.526476\n",
       "4         -0.527688     -0.612976 -0.503949         -0.527955\n",
       "...             ...           ...       ...               ...\n",
       "1049      -0.557679     -0.385690 -0.533809         -0.063318\n",
       "1050      -0.558487     -0.377673 -0.503939         -0.046343\n",
       "1051      -0.568114     -0.377542 -0.496825         -0.028475\n",
       "1052      -0.564900     -0.366940 -0.470552         -0.009577\n",
       "1053      -0.559665     -0.358134 -0.486113          0.010498\n",
       "\n",
       "[1054 rows x 4 columns]"
      ]
     },
     "execution_count": 74,
     "metadata": {},
     "output_type": "execute_result"
    }
   ],
   "source": [
    "from sklearn.preprocessing import StandardScaler\n",
    "ss = StandardScaler()\n",
    "dff = pd.DataFrame(data =ss.fit_transform(co2_df),columns= co2_df.columns )\n",
    "dff"
   ]
  },
  {
   "cell_type": "markdown",
   "metadata": {},
   "source": [
    "\n",
    "## Hierarchical Clustering"
   ]
  },
  {
   "cell_type": "markdown",
   "metadata": {},
   "source": [
    "Using the 'ward' linkage method  printing the first 10 observations of the linkage matrix."
   ]
  },
  {
   "cell_type": "code",
   "execution_count": 75,
   "metadata": {},
   "outputs": [],
   "source": [
    "import scipy.cluster.hierarchy as sch\n",
    "link_mat = pd.DataFrame(sch.linkage(dff,method = 'ward'),columns = ['Ist obs','IInd Obs','euc dist','no.of obs'])"
   ]
  },
  {
   "cell_type": "code",
   "execution_count": 60,
   "metadata": {},
   "outputs": [
    {
     "data": {
      "text/html": [
       "<div>\n",
       "<style scoped>\n",
       "    .dataframe tbody tr th:only-of-type {\n",
       "        vertical-align: middle;\n",
       "    }\n",
       "\n",
       "    .dataframe tbody tr th {\n",
       "        vertical-align: top;\n",
       "    }\n",
       "\n",
       "    .dataframe thead th {\n",
       "        text-align: right;\n",
       "    }\n",
       "</style>\n",
       "<table border=\"1\" class=\"dataframe\">\n",
       "  <thead>\n",
       "    <tr style=\"text-align: right;\">\n",
       "      <th></th>\n",
       "      <th>Ist obs</th>\n",
       "      <th>IInd Obs</th>\n",
       "      <th>euc dist</th>\n",
       "      <th>no.of obs</th>\n",
       "    </tr>\n",
       "  </thead>\n",
       "  <tbody>\n",
       "    <tr>\n",
       "      <th>0</th>\n",
       "      <td>435.0</td>\n",
       "      <td>437.0</td>\n",
       "      <td>0.000002</td>\n",
       "      <td>2.0</td>\n",
       "    </tr>\n",
       "    <tr>\n",
       "      <th>1</th>\n",
       "      <td>446.0</td>\n",
       "      <td>447.0</td>\n",
       "      <td>0.000003</td>\n",
       "      <td>2.0</td>\n",
       "    </tr>\n",
       "    <tr>\n",
       "      <th>2</th>\n",
       "      <td>436.0</td>\n",
       "      <td>438.0</td>\n",
       "      <td>0.000008</td>\n",
       "      <td>2.0</td>\n",
       "    </tr>\n",
       "    <tr>\n",
       "      <th>3</th>\n",
       "      <td>36.0</td>\n",
       "      <td>37.0</td>\n",
       "      <td>0.000009</td>\n",
       "      <td>2.0</td>\n",
       "    </tr>\n",
       "    <tr>\n",
       "      <th>4</th>\n",
       "      <td>558.0</td>\n",
       "      <td>559.0</td>\n",
       "      <td>0.000009</td>\n",
       "      <td>2.0</td>\n",
       "    </tr>\n",
       "    <tr>\n",
       "      <th>...</th>\n",
       "      <td>...</td>\n",
       "      <td>...</td>\n",
       "      <td>...</td>\n",
       "      <td>...</td>\n",
       "    </tr>\n",
       "    <tr>\n",
       "      <th>1237</th>\n",
       "      <td>2476.0</td>\n",
       "      <td>2479.0</td>\n",
       "      <td>13.960832</td>\n",
       "      <td>150.0</td>\n",
       "    </tr>\n",
       "    <tr>\n",
       "      <th>1238</th>\n",
       "      <td>2477.0</td>\n",
       "      <td>2480.0</td>\n",
       "      <td>22.650387</td>\n",
       "      <td>1214.0</td>\n",
       "    </tr>\n",
       "    <tr>\n",
       "      <th>1239</th>\n",
       "      <td>2467.0</td>\n",
       "      <td>2478.0</td>\n",
       "      <td>27.899160</td>\n",
       "      <td>16.0</td>\n",
       "    </tr>\n",
       "    <tr>\n",
       "      <th>1240</th>\n",
       "      <td>2471.0</td>\n",
       "      <td>2481.0</td>\n",
       "      <td>38.336365</td>\n",
       "      <td>1227.0</td>\n",
       "    </tr>\n",
       "    <tr>\n",
       "      <th>1241</th>\n",
       "      <td>2482.0</td>\n",
       "      <td>2483.0</td>\n",
       "      <td>81.051655</td>\n",
       "      <td>1243.0</td>\n",
       "    </tr>\n",
       "  </tbody>\n",
       "</table>\n",
       "<p>1242 rows × 4 columns</p>\n",
       "</div>"
      ],
      "text/plain": [
       "      Ist obs  IInd Obs   euc dist  no.of obs\n",
       "0       435.0     437.0   0.000002        2.0\n",
       "1       446.0     447.0   0.000003        2.0\n",
       "2       436.0     438.0   0.000008        2.0\n",
       "3        36.0      37.0   0.000009        2.0\n",
       "4       558.0     559.0   0.000009        2.0\n",
       "...       ...       ...        ...        ...\n",
       "1237   2476.0    2479.0  13.960832      150.0\n",
       "1238   2477.0    2480.0  22.650387     1214.0\n",
       "1239   2467.0    2478.0  27.899160       16.0\n",
       "1240   2471.0    2481.0  38.336365     1227.0\n",
       "1241   2482.0    2483.0  81.051655     1243.0\n",
       "\n",
       "[1242 rows x 4 columns]"
      ]
     },
     "execution_count": 60,
     "metadata": {},
     "output_type": "execute_result"
    }
   ],
   "source": [
    "link_mat"
   ]
  },
  {
   "cell_type": "markdown",
   "metadata": {},
   "source": [
    "Visualizing the Cluster obtained"
   ]
  },
  {
   "cell_type": "code",
   "execution_count": 84,
   "metadata": {},
   "outputs": [
    {
     "data": {
      "image/png": "[encoded data removed]",
      "text/plain": [
       "<Figure size 1440x720 with 1 Axes>"
      ]
     },
     "metadata": {
      "needs_background": "light"
     },
     "output_type": "display_data"
    }
   ],
   "source": [
    "plt.figure(figsize=(20,10))\n",
    "sch.dendrogram(link_mat.values)\n",
    "plt.show()"
   ]
  },
  {
   "cell_type": "markdown",
   "metadata": {},
   "source": [
    "cophenetic correlation coefficient"
   ]
  },
  {
   "cell_type": "code",
   "execution_count": 77,
   "metadata": {},
   "outputs": [
    {
     "data": {
      "text/plain": [
       "0.7973822617121825"
      ]
     },
     "execution_count": 77,
     "metadata": {},
     "output_type": "execute_result"
    }
   ],
   "source": [
    "from scipy.cluster.hierarchy import cophenet\n",
    "from sklearn.metrics.pairwise import euclidean_distances\n",
    "\n",
    "ec_dist = euclidean_distances(dff)\n",
    "dist_array = ec_dist[np.triu_indices(len(dff),k = 1)]\n",
    "\n",
    "coph_corr,_ = cophenet(link_mat.values,dist_array)\n",
    "coph_corr"
   ]
  },
  {
   "cell_type": "markdown",
   "metadata": {},
   "source": [
    "Instantiating clustering method with an optimal number of clusters and 'ward' linkage method."
   ]
  },
  {
   "cell_type": "code",
   "execution_count": 78,
   "metadata": {},
   "outputs": [],
   "source": [
    "from sklearn.cluster import AgglomerativeClustering\n",
    "hca = AgglomerativeClustering(n_clusters=2, linkage='ward')"
   ]
  },
  {
   "cell_type": "markdown",
   "metadata": {},
   "source": [
    "Obtaining the cluster labels and add a column containing the cluster number to the original data."
   ]
  },
  {
   "cell_type": "code",
   "execution_count": 79,
   "metadata": {},
   "outputs": [
    {
     "data": {
      "text/html": [
       "<div>\n",
       "<style scoped>\n",
       "    .dataframe tbody tr th:only-of-type {\n",
       "        vertical-align: middle;\n",
       "    }\n",
       "\n",
       "    .dataframe tbody tr th {\n",
       "        vertical-align: top;\n",
       "    }\n",
       "\n",
       "    .dataframe thead th {\n",
       "        text-align: right;\n",
       "    }\n",
       "</style>\n",
       "<table border=\"1\" class=\"dataframe\">\n",
       "  <thead>\n",
       "    <tr style=\"text-align: right;\">\n",
       "      <th></th>\n",
       "      <th>CO2 Emissions</th>\n",
       "      <th>Energy Usage</th>\n",
       "      <th>GDP</th>\n",
       "      <th>Population Total</th>\n",
       "      <th>Cluster</th>\n",
       "    </tr>\n",
       "  </thead>\n",
       "  <tbody>\n",
       "    <tr>\n",
       "      <th>0</th>\n",
       "      <td>-0.523682</td>\n",
       "      <td>-0.615122</td>\n",
       "      <td>-0.546747</td>\n",
       "      <td>-0.522900</td>\n",
       "      <td>1</td>\n",
       "    </tr>\n",
       "    <tr>\n",
       "      <th>1</th>\n",
       "      <td>-0.525836</td>\n",
       "      <td>-0.606536</td>\n",
       "      <td>-0.531386</td>\n",
       "      <td>-0.523940</td>\n",
       "      <td>1</td>\n",
       "    </tr>\n",
       "    <tr>\n",
       "      <th>2</th>\n",
       "      <td>-0.524355</td>\n",
       "      <td>-0.606536</td>\n",
       "      <td>-0.523654</td>\n",
       "      <td>-0.525130</td>\n",
       "      <td>1</td>\n",
       "    </tr>\n",
       "    <tr>\n",
       "      <th>3</th>\n",
       "      <td>-0.530902</td>\n",
       "      <td>-0.611092</td>\n",
       "      <td>-0.517245</td>\n",
       "      <td>-0.526476</td>\n",
       "      <td>1</td>\n",
       "    </tr>\n",
       "    <tr>\n",
       "      <th>4</th>\n",
       "      <td>-0.527688</td>\n",
       "      <td>-0.612976</td>\n",
       "      <td>-0.503949</td>\n",
       "      <td>-0.527955</td>\n",
       "      <td>1</td>\n",
       "    </tr>\n",
       "    <tr>\n",
       "      <th>...</th>\n",
       "      <td>...</td>\n",
       "      <td>...</td>\n",
       "      <td>...</td>\n",
       "      <td>...</td>\n",
       "      <td>...</td>\n",
       "    </tr>\n",
       "    <tr>\n",
       "      <th>1049</th>\n",
       "      <td>-0.557679</td>\n",
       "      <td>-0.385690</td>\n",
       "      <td>-0.533809</td>\n",
       "      <td>-0.063318</td>\n",
       "      <td>1</td>\n",
       "    </tr>\n",
       "    <tr>\n",
       "      <th>1050</th>\n",
       "      <td>-0.558487</td>\n",
       "      <td>-0.377673</td>\n",
       "      <td>-0.503939</td>\n",
       "      <td>-0.046343</td>\n",
       "      <td>1</td>\n",
       "    </tr>\n",
       "    <tr>\n",
       "      <th>1051</th>\n",
       "      <td>-0.568114</td>\n",
       "      <td>-0.377542</td>\n",
       "      <td>-0.496825</td>\n",
       "      <td>-0.028475</td>\n",
       "      <td>1</td>\n",
       "    </tr>\n",
       "    <tr>\n",
       "      <th>1052</th>\n",
       "      <td>-0.564900</td>\n",
       "      <td>-0.366940</td>\n",
       "      <td>-0.470552</td>\n",
       "      <td>-0.009577</td>\n",
       "      <td>1</td>\n",
       "    </tr>\n",
       "    <tr>\n",
       "      <th>1053</th>\n",
       "      <td>-0.559665</td>\n",
       "      <td>-0.358134</td>\n",
       "      <td>-0.486113</td>\n",
       "      <td>0.010498</td>\n",
       "      <td>1</td>\n",
       "    </tr>\n",
       "  </tbody>\n",
       "</table>\n",
       "<p>1054 rows × 5 columns</p>\n",
       "</div>"
      ],
      "text/plain": [
       "      CO2 Emissions  Energy Usage       GDP  Population Total  Cluster\n",
       "0         -0.523682     -0.615122 -0.546747         -0.522900        1\n",
       "1         -0.525836     -0.606536 -0.531386         -0.523940        1\n",
       "2         -0.524355     -0.606536 -0.523654         -0.525130        1\n",
       "3         -0.530902     -0.611092 -0.517245         -0.526476        1\n",
       "4         -0.527688     -0.612976 -0.503949         -0.527955        1\n",
       "...             ...           ...       ...               ...      ...\n",
       "1049      -0.557679     -0.385690 -0.533809         -0.063318        1\n",
       "1050      -0.558487     -0.377673 -0.503939         -0.046343        1\n",
       "1051      -0.568114     -0.377542 -0.496825         -0.028475        1\n",
       "1052      -0.564900     -0.366940 -0.470552         -0.009577        1\n",
       "1053      -0.559665     -0.358134 -0.486113          0.010498        1\n",
       "\n",
       "[1054 rows x 5 columns]"
      ]
     },
     "execution_count": 79,
     "metadata": {},
     "output_type": "execute_result"
    }
   ],
   "source": [
    "hca.fit(dff)\n",
    "dff['Cluster'] = hca.labels_\n",
    "dff"
   ]
  },
  {
   "cell_type": "markdown",
   "metadata": {},
   "source": [
    "Finding the size of each cluster and plot the count plot for the cluster size."
   ]
  },
  {
   "cell_type": "code",
   "execution_count": 80,
   "metadata": {},
   "outputs": [
    {
     "data": {
      "text/plain": [
       "1    820\n",
       "0    234\n",
       "Name: Cluster, dtype: int64"
      ]
     },
     "execution_count": 80,
     "metadata": {},
     "output_type": "execute_result"
    }
   ],
   "source": [
    "dff['Cluster'].value_counts()\n"
   ]
  },
  {
   "cell_type": "markdown",
   "metadata": {},
   "source": [
    "Ploting the scatterplot to visualize the clusters using 'CO2 Emissions' and 'Energy Usage'"
   ]
  },
  {
   "cell_type": "code",
   "execution_count": 81,
   "metadata": {},
   "outputs": [
    {
     "name": "stderr",
     "output_type": "stream",
     "text": [
      "C:\\Users\\harip\\anaconda3\\lib\\site-packages\\seaborn\\_decorators.py:36: FutureWarning: Pass the following variable as a keyword arg: x. From version 0.12, the only valid positional argument will be `data`, and passing other arguments without an explicit keyword will result in an error or misinterpretation.\n",
      "  warnings.warn(\n"
     ]
    },
    {
     "data": {
      "image/png": "[encoded data removed]",
      "text/plain": [
       "<Figure size 432x288 with 1 Axes>"
      ]
     },
     "metadata": {
      "needs_background": "light"
     },
     "output_type": "display_data"
    },
    {
     "data": {
      "image/png": "[encoded data removed]",
      "text/plain": [
       "<Figure size 432x288 with 1 Axes>"
      ]
     },
     "metadata": {
      "needs_background": "light"
     },
     "output_type": "display_data"
    }
   ],
   "source": [
    "sns.countplot(dff['Cluster'])\n",
    "plt.show()\n",
    "\n",
    "sns.scatterplot(x = 'CO2 Emissions', y = 'Energy Usage', data = dff, hue = 'Cluster')\n",
    "plt.show()"
   ]
  },
  {
   "cell_type": "markdown",
   "metadata": {},
   "source": [
    "Obtaining the first 10 observations for 1st cluster and find its summary"
   ]
  },
  {
   "cell_type": "code",
   "execution_count": 82,
   "metadata": {
    "scrolled": false
   },
   "outputs": [
    {
     "data": {
      "text/html": [
       "<div>\n",
       "<style scoped>\n",
       "    .dataframe tbody tr th:only-of-type {\n",
       "        vertical-align: middle;\n",
       "    }\n",
       "\n",
       "    .dataframe tbody tr th {\n",
       "        vertical-align: top;\n",
       "    }\n",
       "\n",
       "    .dataframe thead th {\n",
       "        text-align: right;\n",
       "    }\n",
       "</style>\n",
       "<table border=\"1\" class=\"dataframe\">\n",
       "  <thead>\n",
       "    <tr style=\"text-align: right;\">\n",
       "      <th></th>\n",
       "      <th>CO2 Emissions</th>\n",
       "      <th>Energy Usage</th>\n",
       "      <th>GDP</th>\n",
       "      <th>Population Total</th>\n",
       "      <th>Cluster</th>\n",
       "    </tr>\n",
       "  </thead>\n",
       "  <tbody>\n",
       "    <tr>\n",
       "      <th>count</th>\n",
       "      <td>10.000000</td>\n",
       "      <td>10.000000</td>\n",
       "      <td>10.000000</td>\n",
       "      <td>10.000000</td>\n",
       "      <td>10.0</td>\n",
       "    </tr>\n",
       "    <tr>\n",
       "      <th>mean</th>\n",
       "      <td>1.280772</td>\n",
       "      <td>0.908386</td>\n",
       "      <td>0.575329</td>\n",
       "      <td>1.248179</td>\n",
       "      <td>0.0</td>\n",
       "    </tr>\n",
       "    <tr>\n",
       "      <th>std</th>\n",
       "      <td>0.219573</td>\n",
       "      <td>0.192753</td>\n",
       "      <td>0.390156</td>\n",
       "      <td>0.101382</td>\n",
       "      <td>0.0</td>\n",
       "    </tr>\n",
       "    <tr>\n",
       "      <th>min</th>\n",
       "      <td>0.910243</td>\n",
       "      <td>0.643183</td>\n",
       "      <td>-0.019378</td>\n",
       "      <td>1.109745</td>\n",
       "      <td>0.0</td>\n",
       "    </tr>\n",
       "    <tr>\n",
       "      <th>25%</th>\n",
       "      <td>1.167094</td>\n",
       "      <td>0.740343</td>\n",
       "      <td>0.308143</td>\n",
       "      <td>1.169344</td>\n",
       "      <td>0.0</td>\n",
       "    </tr>\n",
       "    <tr>\n",
       "      <th>50%</th>\n",
       "      <td>1.313934</td>\n",
       "      <td>0.924048</td>\n",
       "      <td>0.558215</td>\n",
       "      <td>1.240911</td>\n",
       "      <td>0.0</td>\n",
       "    </tr>\n",
       "    <tr>\n",
       "      <th>75%</th>\n",
       "      <td>1.482170</td>\n",
       "      <td>1.078894</td>\n",
       "      <td>0.833719</td>\n",
       "      <td>1.321631</td>\n",
       "      <td>0.0</td>\n",
       "    </tr>\n",
       "    <tr>\n",
       "      <th>max</th>\n",
       "      <td>1.500868</td>\n",
       "      <td>1.131838</td>\n",
       "      <td>1.134654</td>\n",
       "      <td>1.408181</td>\n",
       "      <td>0.0</td>\n",
       "    </tr>\n",
       "  </tbody>\n",
       "</table>\n",
       "</div>"
      ],
      "text/plain": [
       "       CO2 Emissions  Energy Usage        GDP  Population Total  Cluster\n",
       "count      10.000000     10.000000  10.000000         10.000000     10.0\n",
       "mean        1.280772      0.908386   0.575329          1.248179      0.0\n",
       "std         0.219573      0.192753   0.390156          0.101382      0.0\n",
       "min         0.910243      0.643183  -0.019378          1.109745      0.0\n",
       "25%         1.167094      0.740343   0.308143          1.169344      0.0\n",
       "50%         1.313934      0.924048   0.558215          1.240911      0.0\n",
       "75%         1.482170      1.078894   0.833719          1.321631      0.0\n",
       "max         1.500868      1.131838   1.134654          1.408181      0.0"
      ]
     },
     "execution_count": 82,
     "metadata": {},
     "output_type": "execute_result"
    }
   ],
   "source": [
    "dff[dff['Cluster'] == 0][:10].describe()"
   ]
  },
  {
   "cell_type": "markdown",
   "metadata": {},
   "source": [
    "Obtaining the first 10 observations for the 2nd cluster and find its summary"
   ]
  },
  {
   "cell_type": "code",
   "execution_count": null,
   "metadata": {},
   "outputs": [],
   "source": [
    "dff[dff['Cluster'] == 2][:10].describe()"
   ]
  }
 ],
 "metadata": {
  "kernelspec": {
   "display_name": "Python 3",
   "language": "python",
   "name": "python3"
  },
  "language_info": {
   "codemirror_mode": {
    "name": "ipython",
    "version": 3
   },
   "file_extension": ".py",
   "mimetype": "text/x-python",
   "name": "python",
   "nbconvert_exporter": "python",
   "pygments_lexer": "ipython3",
   "version": "3.8.8"
  }
 },
 "nbformat": 4,
 "nbformat_minor": 2
}
