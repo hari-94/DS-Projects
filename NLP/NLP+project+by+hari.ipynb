{
 "cells": [
  {
   "cell_type": "markdown",
   "id": "027d9896",
   "metadata": {},
   "source": [
    "# Load the dataset\n",
    " As the dataset is larger, using fewer rows. "
   ]
  },
  {
   "cell_type": "code",
   "execution_count": 1,
   "id": "3fc42269",
   "metadata": {},
   "outputs": [],
   "source": [
    "import pandas as pd"
   ]
  },
  {
   "cell_type": "code",
   "execution_count": 2,
   "id": "44d59000",
   "metadata": {
    "scrolled": true
   },
   "outputs": [],
   "source": [
    "df = pd.read_csv(\"C:/Users/harip/Downloads/archive (10)/blogtext.csv\")"
   ]
  },
  {
   "cell_type": "code",
   "execution_count": 3,
   "id": "e7392d06",
   "metadata": {},
   "outputs": [
    {
     "data": {
      "text/html": [
       "<div>\n",
       "<style scoped>\n",
       "    .dataframe tbody tr th:only-of-type {\n",
       "        vertical-align: middle;\n",
       "    }\n",
       "\n",
       "    .dataframe tbody tr th {\n",
       "        vertical-align: top;\n",
       "    }\n",
       "\n",
       "    .dataframe thead th {\n",
       "        text-align: right;\n",
       "    }\n",
       "</style>\n",
       "<table border=\"1\" class=\"dataframe\">\n",
       "  <thead>\n",
       "    <tr style=\"text-align: right;\">\n",
       "      <th></th>\n",
       "      <th>id</th>\n",
       "      <th>gender</th>\n",
       "      <th>age</th>\n",
       "      <th>topic</th>\n",
       "      <th>sign</th>\n",
       "      <th>date</th>\n",
       "      <th>text</th>\n",
       "    </tr>\n",
       "  </thead>\n",
       "  <tbody>\n",
       "    <tr>\n",
       "      <th>0</th>\n",
       "      <td>2059027</td>\n",
       "      <td>male</td>\n",
       "      <td>15</td>\n",
       "      <td>Student</td>\n",
       "      <td>Leo</td>\n",
       "      <td>14,May,2004</td>\n",
       "      <td>Info has been found (+/- 100 pages,...</td>\n",
       "    </tr>\n",
       "    <tr>\n",
       "      <th>1</th>\n",
       "      <td>2059027</td>\n",
       "      <td>male</td>\n",
       "      <td>15</td>\n",
       "      <td>Student</td>\n",
       "      <td>Leo</td>\n",
       "      <td>13,May,2004</td>\n",
       "      <td>These are the team members:   Drewe...</td>\n",
       "    </tr>\n",
       "    <tr>\n",
       "      <th>2</th>\n",
       "      <td>2059027</td>\n",
       "      <td>male</td>\n",
       "      <td>15</td>\n",
       "      <td>Student</td>\n",
       "      <td>Leo</td>\n",
       "      <td>12,May,2004</td>\n",
       "      <td>In het kader van kernfusie op aarde...</td>\n",
       "    </tr>\n",
       "    <tr>\n",
       "      <th>3</th>\n",
       "      <td>2059027</td>\n",
       "      <td>male</td>\n",
       "      <td>15</td>\n",
       "      <td>Student</td>\n",
       "      <td>Leo</td>\n",
       "      <td>12,May,2004</td>\n",
       "      <td>testing!!!  testing!!!</td>\n",
       "    </tr>\n",
       "    <tr>\n",
       "      <th>4</th>\n",
       "      <td>3581210</td>\n",
       "      <td>male</td>\n",
       "      <td>33</td>\n",
       "      <td>InvestmentBanking</td>\n",
       "      <td>Aquarius</td>\n",
       "      <td>11,June,2004</td>\n",
       "      <td>Thanks to Yahoo!'s Toolbar I can ...</td>\n",
       "    </tr>\n",
       "  </tbody>\n",
       "</table>\n",
       "</div>"
      ],
      "text/plain": [
       "        id gender  age              topic      sign          date  \\\n",
       "0  2059027   male   15            Student       Leo   14,May,2004   \n",
       "1  2059027   male   15            Student       Leo   13,May,2004   \n",
       "2  2059027   male   15            Student       Leo   12,May,2004   \n",
       "3  2059027   male   15            Student       Leo   12,May,2004   \n",
       "4  3581210   male   33  InvestmentBanking  Aquarius  11,June,2004   \n",
       "\n",
       "                                                text  \n",
       "0             Info has been found (+/- 100 pages,...  \n",
       "1             These are the team members:   Drewe...  \n",
       "2             In het kader van kernfusie op aarde...  \n",
       "3                   testing!!!  testing!!!            \n",
       "4               Thanks to Yahoo!'s Toolbar I can ...  "
      ]
     },
     "execution_count": 3,
     "metadata": {},
     "output_type": "execute_result"
    }
   ],
   "source": [
    "df.head()"
   ]
  },
  {
   "cell_type": "code",
   "execution_count": 4,
   "id": "22949780",
   "metadata": {},
   "outputs": [
    {
     "data": {
      "text/plain": [
       "male      345193\n",
       "female    336091\n",
       "Name: gender, dtype: int64"
      ]
     },
     "execution_count": 4,
     "metadata": {},
     "output_type": "execute_result"
    }
   ],
   "source": [
    "df['gender'].value_counts()"
   ]
  },
  {
   "cell_type": "code",
   "execution_count": 174,
   "id": "198e2d02",
   "metadata": {},
   "outputs": [],
   "source": [
    "newdf =df[:1000]"
   ]
  },
  {
   "cell_type": "code",
   "execution_count": 175,
   "id": "01bce925",
   "metadata": {
    "scrolled": false
   },
   "outputs": [
    {
     "data": {
      "text/html": [
       "<div>\n",
       "<style scoped>\n",
       "    .dataframe tbody tr th:only-of-type {\n",
       "        vertical-align: middle;\n",
       "    }\n",
       "\n",
       "    .dataframe tbody tr th {\n",
       "        vertical-align: top;\n",
       "    }\n",
       "\n",
       "    .dataframe thead th {\n",
       "        text-align: right;\n",
       "    }\n",
       "</style>\n",
       "<table border=\"1\" class=\"dataframe\">\n",
       "  <thead>\n",
       "    <tr style=\"text-align: right;\">\n",
       "      <th></th>\n",
       "      <th>id</th>\n",
       "      <th>gender</th>\n",
       "      <th>age</th>\n",
       "      <th>topic</th>\n",
       "      <th>sign</th>\n",
       "      <th>date</th>\n",
       "      <th>text</th>\n",
       "    </tr>\n",
       "  </thead>\n",
       "  <tbody>\n",
       "    <tr>\n",
       "      <th>0</th>\n",
       "      <td>2059027</td>\n",
       "      <td>male</td>\n",
       "      <td>15</td>\n",
       "      <td>Student</td>\n",
       "      <td>Leo</td>\n",
       "      <td>14,May,2004</td>\n",
       "      <td>Info has been found (+/- 100 pages,...</td>\n",
       "    </tr>\n",
       "    <tr>\n",
       "      <th>1</th>\n",
       "      <td>2059027</td>\n",
       "      <td>male</td>\n",
       "      <td>15</td>\n",
       "      <td>Student</td>\n",
       "      <td>Leo</td>\n",
       "      <td>13,May,2004</td>\n",
       "      <td>These are the team members:   Drewe...</td>\n",
       "    </tr>\n",
       "    <tr>\n",
       "      <th>2</th>\n",
       "      <td>2059027</td>\n",
       "      <td>male</td>\n",
       "      <td>15</td>\n",
       "      <td>Student</td>\n",
       "      <td>Leo</td>\n",
       "      <td>12,May,2004</td>\n",
       "      <td>In het kader van kernfusie op aarde...</td>\n",
       "    </tr>\n",
       "    <tr>\n",
       "      <th>3</th>\n",
       "      <td>2059027</td>\n",
       "      <td>male</td>\n",
       "      <td>15</td>\n",
       "      <td>Student</td>\n",
       "      <td>Leo</td>\n",
       "      <td>12,May,2004</td>\n",
       "      <td>testing!!!  testing!!!</td>\n",
       "    </tr>\n",
       "    <tr>\n",
       "      <th>4</th>\n",
       "      <td>3581210</td>\n",
       "      <td>male</td>\n",
       "      <td>33</td>\n",
       "      <td>InvestmentBanking</td>\n",
       "      <td>Aquarius</td>\n",
       "      <td>11,June,2004</td>\n",
       "      <td>Thanks to Yahoo!'s Toolbar I can ...</td>\n",
       "    </tr>\n",
       "  </tbody>\n",
       "</table>\n",
       "</div>"
      ],
      "text/plain": [
       "        id gender  age              topic      sign          date  \\\n",
       "0  2059027   male   15            Student       Leo   14,May,2004   \n",
       "1  2059027   male   15            Student       Leo   13,May,2004   \n",
       "2  2059027   male   15            Student       Leo   12,May,2004   \n",
       "3  2059027   male   15            Student       Leo   12,May,2004   \n",
       "4  3581210   male   33  InvestmentBanking  Aquarius  11,June,2004   \n",
       "\n",
       "                                                text  \n",
       "0             Info has been found (+/- 100 pages,...  \n",
       "1             These are the team members:   Drewe...  \n",
       "2             In het kader van kernfusie op aarde...  \n",
       "3                   testing!!!  testing!!!            \n",
       "4               Thanks to Yahoo!'s Toolbar I can ...  "
      ]
     },
     "execution_count": 175,
     "metadata": {},
     "output_type": "execute_result"
    }
   ],
   "source": [
    "newdf.head()"
   ]
  },
  {
   "cell_type": "markdown",
   "id": "8925bdd7",
   "metadata": {},
   "source": [
    "# Preprocessing rows of the “text” column \n",
    " Removing unwanted characters\n",
    " Converting text to lowercase\n",
    " Removing unwanted spaces\n",
    " Removing stopwords"
   ]
  },
  {
   "cell_type": "code",
   "execution_count": 13,
   "id": "62ade400",
   "metadata": {},
   "outputs": [],
   "source": [
    "import spacy\n",
    "import nltk\n",
    "from nltk.tokenize.toktok import ToktokTokenizer\n",
    "import re\n",
    "import unicodedata"
   ]
  },
  {
   "cell_type": "code",
   "execution_count": 11,
   "id": "f9d03cb1",
   "metadata": {},
   "outputs": [
    {
     "name": "stderr",
     "output_type": "stream",
     "text": [
      "[nltk_data] Downloading package stopwords to\n",
      "[nltk_data]     C:\\Users\\harip\\AppData\\Roaming\\nltk_data...\n",
      "[nltk_data]   Unzipping corpora\\stopwords.zip.\n"
     ]
    },
    {
     "data": {
      "text/plain": [
       "True"
      ]
     },
     "execution_count": 11,
     "metadata": {},
     "output_type": "execute_result"
    }
   ],
   "source": [
    "nltk.download('stopwords')"
   ]
  },
  {
   "cell_type": "markdown",
   "id": "d6ea846a",
   "metadata": {},
   "source": [
    "Removing Stop word"
   ]
  },
  {
   "cell_type": "code",
   "execution_count": 32,
   "id": "8dfa1c0a",
   "metadata": {},
   "outputs": [],
   "source": [
    "def remove_stopwords(text, is_lower_case=False):\n",
    "    tokens = tokenizer.tokenize(text)\n",
    "    tokens = [token.strip() for token in tokens]\n",
    "    if is_lower_case:\n",
    "        filtered_tokens = [token for token in tokens if token not in stopword_list]\n",
    "    else:\n",
    "        filtered_tokens = [token for token in tokens if token.lower() not in stopword_list]\n",
    "    filtered_text = ' '.join(filtered_tokens)    \n",
    "    return filtered_text\n"
   ]
  },
  {
   "cell_type": "markdown",
   "id": "d4b30a3e",
   "metadata": {},
   "source": [
    "Remove special and accented characters"
   ]
  },
  {
   "cell_type": "code",
   "execution_count": 35,
   "id": "45461170",
   "metadata": {},
   "outputs": [
    {
     "data": {
      "text/plain": [
       "'Some Accented text'"
      ]
     },
     "execution_count": 35,
     "metadata": {},
     "output_type": "execute_result"
    }
   ],
   "source": [
    "def remove_accented_chars(text):\n",
    "    text = unicodedata.normalize('NFKD', text).encode('ascii', 'ignore').decode('utf-8', 'ignore')\n",
    "    return text\n"
   ]
  },
  {
   "cell_type": "code",
   "execution_count": 33,
   "id": "c1b1a224",
   "metadata": {},
   "outputs": [],
   "source": [
    "def remove_special_characters(text, remove_digits=False):\n",
    "    pattern = r'[^a-zA-z0-9\\s]' if not remove_digits else r'[^a-zA-z\\s]'\n",
    "    text = re.sub(pattern, '', text)\n",
    "    return text"
   ]
  },
  {
   "cell_type": "code",
   "execution_count": 34,
   "id": "b452b4b6",
   "metadata": {},
   "outputs": [],
   "source": [
    "def remove_unwanted_spl_chars(text,remove_digits=False):\n",
    "    pattern = r'[^a-zA-z0-9\\s]' if not remove_digits else r'[^a-zA-z\\s]'\n",
    "    text = re.sub(pattern,'',text)\n",
    "    return text"
   ]
  },
  {
   "cell_type": "code",
   "execution_count": 36,
   "id": "3f29ddc3",
   "metadata": {},
   "outputs": [],
   "source": [
    "def normalize_corpus(corpus, html_stripping=True, contraction_expansion=True,\n",
    "                     accented_char_removal=True, text_lower_case=True, \n",
    "                     text_lemmatization=True, special_char_removal=True, \n",
    "                     stopword_removal=True, remove_digits=True):\n",
    "    \n",
    "    normalized_corpus = []\n",
    "    # normalize each document in the corpus\n",
    "    for doc in corpus:\n",
    "    \n",
    "        # remove accented characters\n",
    "        if accented_char_removal:\n",
    "            doc = remove_accented_chars(doc)\n",
    "        # lowercase the text    \n",
    "        if text_lower_case:\n",
    "            doc = doc.lower()\n",
    "        # remove extra newlines\n",
    "        doc = re.sub(r'[\\r|\\n|\\r\\n]+', ' ',doc)\n",
    "       \n",
    "        # remove special characters and\\or digits    \n",
    "        if special_char_removal:\n",
    "            # insert spaces between special characters to isolate them    \n",
    "            special_char_pattern = re.compile(r'([{.(-)!}])')\n",
    "            doc = special_char_pattern.sub(\" \\\\1 \", doc)\n",
    "            doc = remove_special_characters(doc, remove_digits=remove_digits)  \n",
    "        # remove extra whitespace\n",
    "        doc = re.sub(' +', ' ', doc)\n",
    "        # remove stopwords\n",
    "        if stopword_removal:\n",
    "            doc = remove_stopwords(doc, is_lower_case=text_lower_case)\n",
    "            \n",
    "        normalized_corpus.append(doc)\n",
    "        \n",
    "    return normalized_corpus"
   ]
  },
  {
   "cell_type": "code",
   "execution_count": 51,
   "id": "270a5e9c",
   "metadata": {},
   "outputs": [
    {
     "name": "stderr",
     "output_type": "stream",
     "text": [
      "<ipython-input-51-05d5be36424b>:1: SettingWithCopyWarning: \n",
      "A value is trying to be set on a copy of a slice from a DataFrame.\n",
      "Try using .loc[row_indexer,col_indexer] = value instead\n",
      "\n",
      "See the caveats in the documentation: https://pandas.pydata.org/pandas-docs/stable/user_guide/indexing.html#returning-a-view-versus-a-copy\n",
      "  newdf['clean_data'] = normalize_corpus(newdf['text'])\n"
     ]
    }
   ],
   "source": [
    "newdf['clean_data'] = normalize_corpus(newdf['text'])"
   ]
  },
  {
   "cell_type": "code",
   "execution_count": 52,
   "id": "7f385964",
   "metadata": {},
   "outputs": [
    {
     "data": {
      "text/html": [
       "<div>\n",
       "<style scoped>\n",
       "    .dataframe tbody tr th:only-of-type {\n",
       "        vertical-align: middle;\n",
       "    }\n",
       "\n",
       "    .dataframe tbody tr th {\n",
       "        vertical-align: top;\n",
       "    }\n",
       "\n",
       "    .dataframe thead th {\n",
       "        text-align: right;\n",
       "    }\n",
       "</style>\n",
       "<table border=\"1\" class=\"dataframe\">\n",
       "  <thead>\n",
       "    <tr style=\"text-align: right;\">\n",
       "      <th></th>\n",
       "      <th>id</th>\n",
       "      <th>gender</th>\n",
       "      <th>age</th>\n",
       "      <th>topic</th>\n",
       "      <th>sign</th>\n",
       "      <th>date</th>\n",
       "      <th>text</th>\n",
       "      <th>clean_data</th>\n",
       "    </tr>\n",
       "  </thead>\n",
       "  <tbody>\n",
       "    <tr>\n",
       "      <th>0</th>\n",
       "      <td>2059027</td>\n",
       "      <td>male</td>\n",
       "      <td>15</td>\n",
       "      <td>Student</td>\n",
       "      <td>Leo</td>\n",
       "      <td>14,May,2004</td>\n",
       "      <td>Info has been found (+/- 100 pages,...</td>\n",
       "      <td>info found pages mb pdf files wait untill team...</td>\n",
       "    </tr>\n",
       "    <tr>\n",
       "      <th>1</th>\n",
       "      <td>2059027</td>\n",
       "      <td>male</td>\n",
       "      <td>15</td>\n",
       "      <td>Student</td>\n",
       "      <td>Leo</td>\n",
       "      <td>13,May,2004</td>\n",
       "      <td>These are the team members:   Drewe...</td>\n",
       "      <td>team members drewes van der laag urllink mail ...</td>\n",
       "    </tr>\n",
       "    <tr>\n",
       "      <th>2</th>\n",
       "      <td>2059027</td>\n",
       "      <td>male</td>\n",
       "      <td>15</td>\n",
       "      <td>Student</td>\n",
       "      <td>Leo</td>\n",
       "      <td>12,May,2004</td>\n",
       "      <td>In het kader van kernfusie op aarde...</td>\n",
       "      <td>het kader van kernfusie op aarde maak je eigen...</td>\n",
       "    </tr>\n",
       "    <tr>\n",
       "      <th>3</th>\n",
       "      <td>2059027</td>\n",
       "      <td>male</td>\n",
       "      <td>15</td>\n",
       "      <td>Student</td>\n",
       "      <td>Leo</td>\n",
       "      <td>12,May,2004</td>\n",
       "      <td>testing!!!  testing!!!</td>\n",
       "      <td>testing testing</td>\n",
       "    </tr>\n",
       "    <tr>\n",
       "      <th>4</th>\n",
       "      <td>3581210</td>\n",
       "      <td>male</td>\n",
       "      <td>33</td>\n",
       "      <td>InvestmentBanking</td>\n",
       "      <td>Aquarius</td>\n",
       "      <td>11,June,2004</td>\n",
       "      <td>Thanks to Yahoo!'s Toolbar I can ...</td>\n",
       "      <td>thanks yahoo toolbar capture urls popups means...</td>\n",
       "    </tr>\n",
       "  </tbody>\n",
       "</table>\n",
       "</div>"
      ],
      "text/plain": [
       "        id gender  age              topic      sign          date  \\\n",
       "0  2059027   male   15            Student       Leo   14,May,2004   \n",
       "1  2059027   male   15            Student       Leo   13,May,2004   \n",
       "2  2059027   male   15            Student       Leo   12,May,2004   \n",
       "3  2059027   male   15            Student       Leo   12,May,2004   \n",
       "4  3581210   male   33  InvestmentBanking  Aquarius  11,June,2004   \n",
       "\n",
       "                                                text  \\\n",
       "0             Info has been found (+/- 100 pages,...   \n",
       "1             These are the team members:   Drewe...   \n",
       "2             In het kader van kernfusie op aarde...   \n",
       "3                   testing!!!  testing!!!             \n",
       "4               Thanks to Yahoo!'s Toolbar I can ...   \n",
       "\n",
       "                                          clean_data  \n",
       "0  info found pages mb pdf files wait untill team...  \n",
       "1  team members drewes van der laag urllink mail ...  \n",
       "2  het kader van kernfusie op aarde maak je eigen...  \n",
       "3                                    testing testing  \n",
       "4  thanks yahoo toolbar capture urls popups means...  "
      ]
     },
     "execution_count": 52,
     "metadata": {},
     "output_type": "execute_result"
    }
   ],
   "source": [
    "newdf.head()"
   ]
  },
  {
   "cell_type": "markdown",
   "id": "3bc03677",
   "metadata": {},
   "source": [
    "# merging all the label \n",
    "columns together, so that we have all the labels together for a particular sentence (7.5 points)\n",
    "a. Label columns to merge: “gender”, “age”, “topic”, “sign”\n",
    "b. After completing the previous step, there should be only two columns in your data frame i.e. “text” \n",
    "and “labels” as shown in the below image"
   ]
  },
  {
   "cell_type": "code",
   "execution_count": 53,
   "id": "1dfc00d2",
   "metadata": {
    "scrolled": true
   },
   "outputs": [
    {
     "name": "stderr",
     "output_type": "stream",
     "text": [
      "<ipython-input-53-7513b3af27fe>:1: SettingWithCopyWarning: \n",
      "A value is trying to be set on a copy of a slice from a DataFrame.\n",
      "Try using .loc[row_indexer,col_indexer] = value instead\n",
      "\n",
      "See the caveats in the documentation: https://pandas.pydata.org/pandas-docs/stable/user_guide/indexing.html#returning-a-view-versus-a-copy\n",
      "  newdf['age'] =newdf['age'].astype('str')\n"
     ]
    }
   ],
   "source": [
    "newdf['age'] =newdf['age'].astype('str') "
   ]
  },
  {
   "cell_type": "code",
   "execution_count": 54,
   "id": "ffd40289",
   "metadata": {},
   "outputs": [
    {
     "name": "stderr",
     "output_type": "stream",
     "text": [
      "<ipython-input-54-b138fb3127c7>:1: SettingWithCopyWarning: \n",
      "A value is trying to be set on a copy of a slice from a DataFrame.\n",
      "Try using .loc[row_indexer,col_indexer] = value instead\n",
      "\n",
      "See the caveats in the documentation: https://pandas.pydata.org/pandas-docs/stable/user_guide/indexing.html#returning-a-view-versus-a-copy\n",
      "  newdf['labels']=newdf[['gender', 'age','topic','sign']].agg(','.join, axis=1)\n"
     ]
    }
   ],
   "source": [
    "newdf['labels']=newdf[['gender', 'age','topic','sign']].agg(','.join, axis=1)"
   ]
  },
  {
   "cell_type": "code",
   "execution_count": 58,
   "id": "20b7539d",
   "metadata": {},
   "outputs": [
    {
     "name": "stderr",
     "output_type": "stream",
     "text": [
      "C:\\Users\\harip\\anaconda3\\lib\\site-packages\\pandas\\core\\frame.py:4308: SettingWithCopyWarning: \n",
      "A value is trying to be set on a copy of a slice from a DataFrame\n",
      "\n",
      "See the caveats in the documentation: https://pandas.pydata.org/pandas-docs/stable/user_guide/indexing.html#returning-a-view-versus-a-copy\n",
      "  return super().drop(\n"
     ]
    }
   ],
   "source": [
    "newdf.drop(['id','gender','age','topic','sign','date','text'],axis=1,inplace=True)"
   ]
  },
  {
   "cell_type": "code",
   "execution_count": 59,
   "id": "8a906a16",
   "metadata": {},
   "outputs": [
    {
     "data": {
      "text/html": [
       "<div>\n",
       "<style scoped>\n",
       "    .dataframe tbody tr th:only-of-type {\n",
       "        vertical-align: middle;\n",
       "    }\n",
       "\n",
       "    .dataframe tbody tr th {\n",
       "        vertical-align: top;\n",
       "    }\n",
       "\n",
       "    .dataframe thead th {\n",
       "        text-align: right;\n",
       "    }\n",
       "</style>\n",
       "<table border=\"1\" class=\"dataframe\">\n",
       "  <thead>\n",
       "    <tr style=\"text-align: right;\">\n",
       "      <th></th>\n",
       "      <th>clean_data</th>\n",
       "      <th>labels</th>\n",
       "    </tr>\n",
       "  </thead>\n",
       "  <tbody>\n",
       "    <tr>\n",
       "      <th>0</th>\n",
       "      <td>info found pages mb pdf files wait untill team...</td>\n",
       "      <td>male,15,Student,Leo</td>\n",
       "    </tr>\n",
       "    <tr>\n",
       "      <th>1</th>\n",
       "      <td>team members drewes van der laag urllink mail ...</td>\n",
       "      <td>male,15,Student,Leo</td>\n",
       "    </tr>\n",
       "    <tr>\n",
       "      <th>2</th>\n",
       "      <td>het kader van kernfusie op aarde maak je eigen...</td>\n",
       "      <td>male,15,Student,Leo</td>\n",
       "    </tr>\n",
       "    <tr>\n",
       "      <th>3</th>\n",
       "      <td>testing testing</td>\n",
       "      <td>male,15,Student,Leo</td>\n",
       "    </tr>\n",
       "    <tr>\n",
       "      <th>4</th>\n",
       "      <td>thanks yahoo toolbar capture urls popups means...</td>\n",
       "      <td>male,33,InvestmentBanking,Aquarius</td>\n",
       "    </tr>\n",
       "    <tr>\n",
       "      <th>...</th>\n",
       "      <td>...</td>\n",
       "      <td>...</td>\n",
       "    </tr>\n",
       "    <tr>\n",
       "      <th>995</th>\n",
       "      <td>urllink doggy bed need say urllink</td>\n",
       "      <td>female,25,indUnk,Taurus</td>\n",
       "    </tr>\n",
       "    <tr>\n",
       "      <th>996</th>\n",
       "      <td>ah yes summer olympics halfway ive settled fam...</td>\n",
       "      <td>female,25,indUnk,Taurus</td>\n",
       "    </tr>\n",
       "    <tr>\n",
       "      <th>997</th>\n",
       "      <td>current music could magic donna summer feeling...</td>\n",
       "      <td>female,15,Arts,Pisces</td>\n",
       "    </tr>\n",
       "    <tr>\n",
       "      <th>998</th>\n",
       "      <td>hey one many things expression zone hope updat...</td>\n",
       "      <td>female,15,Arts,Pisces</td>\n",
       "    </tr>\n",
       "    <tr>\n",
       "      <th>999</th>\n",
       "      <td>well today going okay applied jobs done bills ...</td>\n",
       "      <td>male,44,indUnk,Taurus</td>\n",
       "    </tr>\n",
       "  </tbody>\n",
       "</table>\n",
       "<p>1000 rows × 2 columns</p>\n",
       "</div>"
      ],
      "text/plain": [
       "                                            clean_data  \\\n",
       "0    info found pages mb pdf files wait untill team...   \n",
       "1    team members drewes van der laag urllink mail ...   \n",
       "2    het kader van kernfusie op aarde maak je eigen...   \n",
       "3                                      testing testing   \n",
       "4    thanks yahoo toolbar capture urls popups means...   \n",
       "..                                                 ...   \n",
       "995                 urllink doggy bed need say urllink   \n",
       "996  ah yes summer olympics halfway ive settled fam...   \n",
       "997  current music could magic donna summer feeling...   \n",
       "998  hey one many things expression zone hope updat...   \n",
       "999  well today going okay applied jobs done bills ...   \n",
       "\n",
       "                                 labels  \n",
       "0                   male,15,Student,Leo  \n",
       "1                   male,15,Student,Leo  \n",
       "2                   male,15,Student,Leo  \n",
       "3                   male,15,Student,Leo  \n",
       "4    male,33,InvestmentBanking,Aquarius  \n",
       "..                                  ...  \n",
       "995             female,25,indUnk,Taurus  \n",
       "996             female,25,indUnk,Taurus  \n",
       "997               female,15,Arts,Pisces  \n",
       "998               female,15,Arts,Pisces  \n",
       "999               male,44,indUnk,Taurus  \n",
       "\n",
       "[1000 rows x 2 columns]"
      ]
     },
     "execution_count": 59,
     "metadata": {},
     "output_type": "execute_result"
    }
   ],
   "source": [
    "newdf"
   ]
  },
  {
   "cell_type": "code",
   "execution_count": 170,
   "id": "434ce863",
   "metadata": {},
   "outputs": [],
   "source": [
    "from sklearn.preprocessing import MultiLabelBinarizer\n",
    "mlb = MultiLabelBinarizer()"
   ]
  },
  {
   "cell_type": "code",
   "execution_count": 171,
   "id": "59bfdcf5",
   "metadata": {},
   "outputs": [
    {
     "data": {
      "text/plain": [
       "MultiLabelBinarizer()"
      ]
     },
     "execution_count": 171,
     "metadata": {},
     "output_type": "execute_result"
    }
   ],
   "source": [
    "mlb.fit([newdf['labels'].values])"
   ]
  },
  {
   "cell_type": "code",
   "execution_count": 157,
   "id": "061c0570",
   "metadata": {},
   "outputs": [],
   "source": [
    "n= mlb.fit_transform(newdf['labels'])"
   ]
  },
  {
   "cell_type": "code",
   "execution_count": 168,
   "id": "2f3d4c41",
   "metadata": {
    "scrolled": true
   },
   "outputs": [
    {
     "data": {
      "text/plain": [
       "array(['female,14,indUnk,Aries', 'female,14,indUnk,Cancer',\n",
       "       'female,15,Arts,Pisces', 'female,15,Student,Gemini',\n",
       "       'female,17,Student,Aries', 'female,17,Student,Gemini',\n",
       "       'female,23,indUnk,Aquarius', 'female,23,indUnk,Libra',\n",
       "       'female,23,indUnk,Virgo', 'female,24,indUnk,Scorpio',\n",
       "       'female,25,indUnk,Capricorn', 'female,25,indUnk,Sagittarius',\n",
       "       'female,25,indUnk,Taurus', 'female,27,Education,Aquarius',\n",
       "       'female,33,Banking,Aquarius', 'female,34,indUnk,Scorpio',\n",
       "       'female,37,indUnk,Aquarius', 'female,45,indUnk,Sagittarius',\n",
       "       'male,14,Student,Scorpio', 'male,15,Science,Libra',\n",
       "       'male,15,Student,Aquarius', 'male,15,Student,Leo',\n",
       "       'male,17,Sports-Recreation,Capricorn',\n",
       "       'male,17,Student,Sagittarius', 'male,23,indUnk,Sagittarius',\n",
       "       'male,24,BusinessServices,Cancer', 'male,24,Engineering,Libra',\n",
       "       'male,25,Non-Profit,Cancer', 'male,26,indUnk,Leo',\n",
       "       'male,33,InvestmentBanking,Aquarius',\n",
       "       'male,41,Communications-Media,Libra', 'male,44,indUnk,Taurus'],\n",
       "      dtype=object)"
      ]
     },
     "execution_count": 168,
     "metadata": {},
     "output_type": "execute_result"
    }
   ],
   "source": [
    "mlb.classes_"
   ]
  },
  {
   "cell_type": "code",
   "execution_count": 72,
   "id": "c80ead52",
   "metadata": {},
   "outputs": [
    {
     "data": {
      "text/plain": [
       "1000"
      ]
     },
     "execution_count": 72,
     "metadata": {},
     "output_type": "execute_result"
    }
   ],
   "source": [
    "len(mlb.fit_transform(newdf['labels']))"
   ]
  },
  {
   "cell_type": "markdown",
   "id": "c2f06989",
   "metadata": {},
   "source": [
    "# Separate features and labels, and split the data into training and testing\n"
   ]
  },
  {
   "cell_type": "code",
   "execution_count": 75,
   "id": "b6d447f5",
   "metadata": {},
   "outputs": [],
   "source": [
    "x = newdf['clean_data']\n",
    "y = mlb.fit_transform(newdf['labels'])"
   ]
  },
  {
   "cell_type": "code",
   "execution_count": 78,
   "id": "8ac48e5e",
   "metadata": {},
   "outputs": [],
   "source": [
    "from sklearn.model_selection import train_test_split\n",
    "x_train,x_test,y_train,y_test = train_test_split(x,y)"
   ]
  },
  {
   "cell_type": "markdown",
   "id": "0d9f7e69",
   "metadata": {},
   "source": [
    "# vectorize the features \n",
    "a. Creating a Bag of Words using count vectorizer\n",
    "i. Using ngram_range=(1, 2)\n",
    "ii. Vectorize training and testing features\n",
    "b. Printing the term-document matrix"
   ]
  },
  {
   "cell_type": "code",
   "execution_count": 79,
   "id": "ac87af63",
   "metadata": {},
   "outputs": [],
   "source": [
    "from sklearn.feature_extraction.text import CountVectorizer\n",
    "toNumeric = CountVectorizer(ngram_range=(1,2))"
   ]
  },
  {
   "cell_type": "code",
   "execution_count": 81,
   "id": "93848ff6",
   "metadata": {},
   "outputs": [
    {
     "data": {
      "text/plain": [
       "CountVectorizer(ngram_range=(1, 2))"
      ]
     },
     "execution_count": 81,
     "metadata": {},
     "output_type": "execute_result"
    }
   ],
   "source": [
    "toNumeric.fit(x_train)"
   ]
  },
  {
   "cell_type": "code",
   "execution_count": 87,
   "id": "ec92cbb2",
   "metadata": {},
   "outputs": [
    {
     "data": {
      "text/plain": [
       "['abandon horses',\n",
       " 'abandoned',\n",
       " 'abandoned although',\n",
       " 'abandons',\n",
       " 'abandons hate']"
      ]
     },
     "execution_count": 87,
     "metadata": {},
     "output_type": "execute_result"
    }
   ],
   "source": [
    "toNumeric.get_feature_names()"
   ]
  },
  {
   "cell_type": "code",
   "execution_count": 88,
   "id": "8e79a7cd",
   "metadata": {},
   "outputs": [],
   "source": [
    "x_train_dtm = toNumeric.transform(x_train)"
   ]
  },
  {
   "cell_type": "code",
   "execution_count": null,
   "id": "6623415e",
   "metadata": {},
   "outputs": [],
   "source": [
    "x_test_dtm = toNumeric.transform(x_test)"
   ]
  },
  {
   "cell_type": "code",
   "execution_count": 91,
   "id": "2e70184f",
   "metadata": {},
   "outputs": [
    {
     "data": {
      "text/plain": [
       "array([[0, 0, 0, ..., 0, 0, 0],\n",
       "       [0, 0, 0, ..., 0, 0, 0],\n",
       "       [0, 0, 0, ..., 0, 0, 0],\n",
       "       ...,\n",
       "       [0, 0, 0, ..., 0, 0, 0],\n",
       "       [0, 0, 0, ..., 0, 0, 0],\n",
       "       [0, 0, 0, ..., 0, 0, 0]], dtype=int64)"
      ]
     },
     "execution_count": 91,
     "metadata": {},
     "output_type": "execute_result"
    }
   ],
   "source": [
    "x_train_dtm.toarray()"
   ]
  },
  {
   "cell_type": "code",
   "execution_count": 92,
   "id": "2629226a",
   "metadata": {},
   "outputs": [
    {
     "data": {
      "text/plain": [
       "array([[0, 0, 0, ..., 0, 0, 0],\n",
       "       [0, 0, 0, ..., 0, 0, 0],\n",
       "       [0, 0, 0, ..., 0, 0, 0],\n",
       "       ...,\n",
       "       [0, 0, 0, ..., 0, 0, 0],\n",
       "       [0, 0, 0, ..., 0, 0, 0],\n",
       "       [0, 0, 0, ..., 0, 0, 0]], dtype=int64)"
      ]
     },
     "execution_count": 92,
     "metadata": {},
     "output_type": "execute_result"
    }
   ],
   "source": [
    "x_test_dtm.toarray()"
   ]
  },
  {
   "cell_type": "markdown",
   "id": "032931b4",
   "metadata": {},
   "source": [
    "# Creating a dictionary to get the count of every label i.e. the key will be label name and value will be the total count of the label. "
   ]
  },
  {
   "cell_type": "code",
   "execution_count": 199,
   "id": "6dce4b89",
   "metadata": {},
   "outputs": [
    {
     "name": "stdout",
     "output_type": "stream",
     "text": [
      "male      575\n",
      "female    425\n",
      "Name: gender, dtype: int64\n",
      "24    331\n",
      "17    142\n",
      "27     85\n",
      "33     83\n",
      "15     74\n",
      "14     70\n",
      "23     69\n",
      "25     57\n",
      "26     35\n",
      "37     19\n",
      "41     14\n",
      "45     14\n",
      "34      6\n",
      "44      1\n",
      "Name: age, dtype: int64\n",
      "indUnk                  370\n",
      "Student                 156\n",
      "Engineering             119\n",
      "Education                85\n",
      "Sports-Recreation        75\n",
      "InvestmentBanking        70\n",
      "Non-Profit               46\n",
      "Science                  29\n",
      "BusinessServices         21\n",
      "Communications-Media     14\n",
      "Banking                  13\n",
      "Arts                      2\n",
      "Name: topic, dtype: int64\n",
      "Scorpio        243\n",
      "Aquarius       222\n",
      "Libra          179\n",
      "Sagittarius     98\n",
      "Capricorn       77\n",
      "Cancer          70\n",
      "Aries           46\n",
      "Leo             39\n",
      "Gemini          15\n",
      "Taurus           7\n",
      "Virgo            2\n",
      "Pisces           2\n",
      "Name: sign, dtype: int64\n"
     ]
    }
   ],
   "source": [
    "print(newdf['gender'].value_counts())\n",
    "print(newdf['age'].value_counts())\n",
    "print(newdf['topic'].value_counts())\n",
    "print(newdf['sign'].value_counts())\n",
    "\n"
   ]
  },
  {
   "cell_type": "code",
   "execution_count": 198,
   "id": "c1f40240",
   "metadata": {},
   "outputs": [
    {
     "data": {
      "text/plain": [
       "{'male': 575,\n",
       " 'female': 425,\n",
       " 24: 331,\n",
       " 17: 142,\n",
       " 27: 85,\n",
       " 33: 83,\n",
       " 15: 74,\n",
       " 14: 70,\n",
       " 23: 69,\n",
       " 25: 57,\n",
       " 26: 35,\n",
       " 37: 19,\n",
       " 41: 14,\n",
       " 45: 14,\n",
       " 34: 6,\n",
       " 44: 1,\n",
       " 'indUnk': 370,\n",
       " 'Student': 156,\n",
       " 'Engineering': 119,\n",
       " 'Education': 85,\n",
       " 'Sports-Recreation': 75,\n",
       " 'InvestmentBanking': 70,\n",
       " 'Non-Profit': 46,\n",
       " 'Science': 29,\n",
       " 'BusinessServices': 21,\n",
       " 'Communications-Media': 14,\n",
       " 'Banking': 13,\n",
       " 'Arts': 2,\n",
       " 'Scorpio': 243,\n",
       " 'Aquarius': 222,\n",
       " 'Libra': 179,\n",
       " 'Sagittarius': 98,\n",
       " 'Capricorn': 77,\n",
       " 'Cancer': 70,\n",
       " 'Aries': 46,\n",
       " 'Leo': 39,\n",
       " 'Gemini': 15,\n",
       " 'Taurus': 7,\n",
       " 'Virgo': 2,\n",
       " 'Pisces': 2}"
      ]
     },
     "execution_count": 198,
     "metadata": {},
     "output_type": "execute_result"
    }
   ],
   "source": [
    "{newdf['gender'].value_counts().index[0] : newdf['gender'].value_counts().values[0],\n",
    "newdf['gender'].value_counts().index[1] : newdf['gender'].value_counts().values[1],\n",
    "  newdf['age'].value_counts().index[0] : newdf['age'].value_counts().values[0],\n",
    "  newdf['age'].value_counts().index[1] : newdf['age'].value_counts().values[1],\n",
    "  newdf['age'].value_counts().index[2] : newdf['age'].value_counts().values[2],\n",
    "  newdf['age'].value_counts().index[3] : newdf['age'].value_counts().values[3],\n",
    "  newdf['age'].value_counts().index[4] : newdf['age'].value_counts().values[4],\n",
    "  newdf['age'].value_counts().index[5] : newdf['age'].value_counts().values[5],\n",
    "  newdf['age'].value_counts().index[6] : newdf['age'].value_counts().values[6],\n",
    "  newdf['age'].value_counts().index[7] : newdf['age'].value_counts().values[7],\n",
    "  newdf['age'].value_counts().index[8] : newdf['age'].value_counts().values[8],\n",
    "  newdf['age'].value_counts().index[9] : newdf['age'].value_counts().values[9],\n",
    "  newdf['age'].value_counts().index[10] : newdf['age'].value_counts().values[10],\n",
    "  newdf['age'].value_counts().index[11] : newdf['age'].value_counts().values[11],\n",
    " newdf['age'].value_counts().index[12] : newdf['age'].value_counts().values[12],\n",
    " newdf['age'].value_counts().index[13] : newdf['age'].value_counts().values[13],\n",
    " \n",
    " newdf['topic'].value_counts().index[0] : newdf['topic'].value_counts().values[0],\n",
    "  newdf['topic'].value_counts().index[1] : newdf['topic'].value_counts().values[1],\n",
    "  newdf['topic'].value_counts().index[2] : newdf['topic'].value_counts().values[2],\n",
    "  newdf['topic'].value_counts().index[3] : newdf['topic'].value_counts().values[3],\n",
    "  newdf['topic'].value_counts().index[4] : newdf['topic'].value_counts().values[4],\n",
    "  newdf['topic'].value_counts().index[5] : newdf['topic'].value_counts().values[5],\n",
    "  newdf['topic'].value_counts().index[6] : newdf['topic'].value_counts().values[6],\n",
    "  newdf['topic'].value_counts().index[7] : newdf['topic'].value_counts().values[7],\n",
    "  newdf['topic'].value_counts().index[8] : newdf['topic'].value_counts().values[8],\n",
    "  newdf['topic'].value_counts().index[9] : newdf['topic'].value_counts().values[9],\n",
    "  newdf['topic'].value_counts().index[10] : newdf['topic'].value_counts().values[10],\n",
    "  newdf['topic'].value_counts().index[11] : newdf['topic'].value_counts().values[11],\n",
    " \n",
    "  newdf['sign'].value_counts().index[0] : newdf['sign'].value_counts().values[0],\n",
    "  newdf['sign'].value_counts().index[1] : newdf['sign'].value_counts().values[1],\n",
    "  newdf['sign'].value_counts().index[2] : newdf['sign'].value_counts().values[2],\n",
    "  newdf['sign'].value_counts().index[3] : newdf['sign'].value_counts().values[3],\n",
    "  newdf['sign'].value_counts().index[4] : newdf['sign'].value_counts().values[4],\n",
    "  newdf['sign'].value_counts().index[5] : newdf['sign'].value_counts().values[5],\n",
    "  newdf['sign'].value_counts().index[6] : newdf['sign'].value_counts().values[6],\n",
    "  newdf['sign'].value_counts().index[7] : newdf['sign'].value_counts().values[7],\n",
    "  newdf['sign'].value_counts().index[8] : newdf['sign'].value_counts().values[8],\n",
    "  newdf['sign'].value_counts().index[9] : newdf['sign'].value_counts().values[9],\n",
    "  newdf['sign'].value_counts().index[10] : newdf['sign'].value_counts().values[10],\n",
    "  newdf['sign'].value_counts().index[11] : newdf['sign'].value_counts().values[11],\n",
    " \n",
    "}"
   ]
  },
  {
   "cell_type": "markdown",
   "id": "001a3173",
   "metadata": {},
   "source": [
    "# Transforming the labels \n",
    "a. Convert your train and test labels using MultiLabelBinarizer"
   ]
  },
  {
   "cell_type": "code",
   "execution_count": null,
   "id": "b27d7340",
   "metadata": {},
   "outputs": [],
   "source": [
    "from sklearn.preprocessing import MultiLabelBinarizer\n",
    "mlb = MultiLabelBinarizer()\n",
    "len(mlb.fit_transform(newdf['labels']))"
   ]
  },
  {
   "cell_type": "markdown",
   "id": "1f0fa70b",
   "metadata": {},
   "source": [
    "# choosing a classifier "
   ]
  },
  {
   "cell_type": "code",
   "execution_count": 109,
   "id": "61598dad",
   "metadata": {},
   "outputs": [],
   "source": [
    "from sklearn.multiclass import OneVsRestClassifier\n",
    "from sklearn.linear_model import LogisticRegression\n",
    "\n",
    "clf = LogisticRegression(solver='lbfgs')\n",
    "clf = OneVsRestClassifier(clf)"
   ]
  },
  {
   "cell_type": "code",
   "execution_count": 111,
   "id": "634b4d2f",
   "metadata": {},
   "outputs": [
    {
     "name": "stderr",
     "output_type": "stream",
     "text": [
      "C:\\Users\\harip\\anaconda3\\lib\\site-packages\\sklearn\\multiclass.py:79: UserWarning: Label 0 is present in all training examples.\n",
      "  warnings.warn(\n",
      "C:\\Users\\harip\\anaconda3\\lib\\site-packages\\sklearn\\multiclass.py:79: UserWarning: Label 24 is present in all training examples.\n",
      "  warnings.warn(\n",
      "C:\\Users\\harip\\anaconda3\\lib\\site-packages\\sklearn\\multiclass.py:79: UserWarning: Label 28 is present in all training examples.\n",
      "  warnings.warn(\n",
      "C:\\Users\\harip\\anaconda3\\lib\\site-packages\\sklearn\\multiclass.py:79: UserWarning: Label 33 is present in all training examples.\n",
      "  warnings.warn(\n",
      "C:\\Users\\harip\\anaconda3\\lib\\site-packages\\sklearn\\multiclass.py:79: UserWarning: Label 34 is present in all training examples.\n",
      "  warnings.warn(\n"
     ]
    },
    {
     "data": {
      "text/plain": [
       "OneVsRestClassifier(estimator=LogisticRegression())"
      ]
     },
     "execution_count": 111,
     "metadata": {},
     "output_type": "execute_result"
    }
   ],
   "source": [
    "clf.fit(x_train_dtm,y_train)"
   ]
  },
  {
   "cell_type": "code",
   "execution_count": 113,
   "id": "c817f3e9",
   "metadata": {},
   "outputs": [],
   "source": [
    "pred = clf.predict(x_test_dtm)"
   ]
  },
  {
   "cell_type": "markdown",
   "id": "15090e0b",
   "metadata": {},
   "source": [
    "# Fitting the classifier, make predictions and get the accuracy \n",
    "a. Print the following\n",
    "i. Accuracy score\n",
    "ii. F1 score\n",
    "iii. Average precision score\n",
    "iv. Average recall score\n"
   ]
  },
  {
   "cell_type": "code",
   "execution_count": 115,
   "id": "3416c2c3",
   "metadata": {},
   "outputs": [],
   "source": [
    "from sklearn.metrics import accuracy_score, f1_score, average_precision_score, recall_score"
   ]
  },
  {
   "cell_type": "code",
   "execution_count": 116,
   "id": "185aa305",
   "metadata": {},
   "outputs": [
    {
     "data": {
      "text/plain": [
       "0.164"
      ]
     },
     "execution_count": 116,
     "metadata": {},
     "output_type": "execute_result"
    }
   ],
   "source": [
    "accuracy_score(y_test,pred)"
   ]
  },
  {
   "cell_type": "code",
   "execution_count": 119,
   "id": "1cd11ae0",
   "metadata": {},
   "outputs": [
    {
     "data": {
      "text/plain": [
       "0.824837501138911"
      ]
     },
     "execution_count": 119,
     "metadata": {},
     "output_type": "execute_result"
    }
   ],
   "source": [
    "f1_score(y_test,pred,average='samples')"
   ]
  },
  {
   "cell_type": "code",
   "execution_count": 121,
   "id": "3d56db59",
   "metadata": {},
   "outputs": [
    {
     "data": {
      "text/plain": [
       "0.7993762563985322"
      ]
     },
     "execution_count": 121,
     "metadata": {},
     "output_type": "execute_result"
    }
   ],
   "source": [
    "average_precision_score(y_test,pred,average='samples')"
   ]
  },
  {
   "cell_type": "code",
   "execution_count": 122,
   "id": "9944ced5",
   "metadata": {},
   "outputs": [
    {
     "data": {
      "text/plain": [
       "0.7616823725981622"
      ]
     },
     "execution_count": 122,
     "metadata": {},
     "output_type": "execute_result"
    }
   ],
   "source": [
    "recall_score(y_test,pred,average='samples')"
   ]
  },
  {
   "cell_type": "code",
   "execution_count": 173,
   "id": "d75ced7d",
   "metadata": {},
   "outputs": [
    {
     "data": {
      "text/plain": [
       "array(['female,14,indUnk,Aries', 'female,14,indUnk,Cancer',\n",
       "       'female,15,Arts,Pisces', 'female,15,Student,Gemini',\n",
       "       'female,17,Student,Aries', 'female,17,Student,Gemini',\n",
       "       'female,23,indUnk,Aquarius', 'female,23,indUnk,Libra',\n",
       "       'female,23,indUnk,Virgo', 'female,24,indUnk,Scorpio',\n",
       "       'female,25,indUnk,Capricorn', 'female,25,indUnk,Sagittarius',\n",
       "       'female,25,indUnk,Taurus', 'female,27,Education,Aquarius',\n",
       "       'female,33,Banking,Aquarius', 'female,34,indUnk,Scorpio',\n",
       "       'female,37,indUnk,Aquarius', 'female,45,indUnk,Sagittarius',\n",
       "       'male,14,Student,Scorpio', 'male,15,Science,Libra',\n",
       "       'male,15,Student,Aquarius', 'male,15,Student,Leo',\n",
       "       'male,17,Sports-Recreation,Capricorn',\n",
       "       'male,17,Student,Sagittarius', 'male,23,indUnk,Sagittarius',\n",
       "       'male,24,BusinessServices,Cancer', 'male,24,Engineering,Libra',\n",
       "       'male,25,Non-Profit,Cancer', 'male,26,indUnk,Leo',\n",
       "       'male,33,InvestmentBanking,Aquarius',\n",
       "       'male,41,Communications-Media,Libra', 'male,44,indUnk,Taurus'],\n",
       "      dtype=object)"
      ]
     },
     "execution_count": 173,
     "metadata": {},
     "output_type": "execute_result"
    }
   ],
   "source": [
    "mlb.classes_"
   ]
  }
 ],
 "metadata": {
  "kernelspec": {
   "display_name": "Python 3",
   "language": "python",
   "name": "python3"
  },
  "language_info": {
   "codemirror_mode": {
    "name": "ipython",
    "version": 3
   },
   "file_extension": ".py",
   "mimetype": "text/x-python",
   "name": "python",
   "nbconvert_exporter": "python",
   "pygments_lexer": "ipython3",
   "version": "3.8.8"
  }
 },
 "nbformat": 4,
 "nbformat_minor": 5
}
